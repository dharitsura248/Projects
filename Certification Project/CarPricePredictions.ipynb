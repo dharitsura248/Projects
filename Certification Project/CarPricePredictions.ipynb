{
 "cells": [
  {
   "cell_type": "markdown",
   "source": [
    "# DataCamp Certification Case Study\r\n",
    "\r\n",
    "### Project Brief\r\n",
    "\r\n",
    "You have been hired as a data scientist at a used car dealership in the UK. The sales team have been having problems with pricing used cars that arrive at the dealership and would like your help. Before they take any company wide action they would like you to work with the Toyota specialist to test your idea. They have already collected some data from other retailers on the price that a range of Toyota cars were listed at. It is known that cars that are more than £1500 above the estimated price will not sell. The sales team wants to know whether you can make predictions within this range.\r\n",
    "\r\n",
    "The presentation of your findings should be targeted at the Head of Sales, who has no technical data science background.\r\n",
    "\r\n",
    "The data you will use for this analysis can be accessed here: `\"data/toyota.csv\"`"
   ],
   "metadata": {
    "id": "bA5ajAmk7XH6"
   }
  },
  {
   "cell_type": "code",
   "execution_count": 16,
   "source": [
    "import pandas as pd\r\n",
    "import numpy as np\r\n",
    "import matplotlib.pyplot as plt\r\n",
    "import seaborn as sns"
   ],
   "outputs": [],
   "metadata": {
    "scrolled": true
   }
  },
  {
   "cell_type": "code",
   "execution_count": 17,
   "source": [
    "toyota_df = pd.read_csv('data/toyota.csv')\r\n",
    "toyota_df.head()"
   ],
   "outputs": [
    {
     "output_type": "execute_result",
     "data": {
      "text/html": [
       "<div>\n",
       "<style scoped>\n",
       "    .dataframe tbody tr th:only-of-type {\n",
       "        vertical-align: middle;\n",
       "    }\n",
       "\n",
       "    .dataframe tbody tr th {\n",
       "        vertical-align: top;\n",
       "    }\n",
       "\n",
       "    .dataframe thead th {\n",
       "        text-align: right;\n",
       "    }\n",
       "</style>\n",
       "<table border=\"1\" class=\"dataframe\">\n",
       "  <thead>\n",
       "    <tr style=\"text-align: right;\">\n",
       "      <th></th>\n",
       "      <th>model</th>\n",
       "      <th>year</th>\n",
       "      <th>price</th>\n",
       "      <th>transmission</th>\n",
       "      <th>mileage</th>\n",
       "      <th>fuelType</th>\n",
       "      <th>tax</th>\n",
       "      <th>mpg</th>\n",
       "      <th>engineSize</th>\n",
       "    </tr>\n",
       "  </thead>\n",
       "  <tbody>\n",
       "    <tr>\n",
       "      <th>0</th>\n",
       "      <td>GT86</td>\n",
       "      <td>2016</td>\n",
       "      <td>16000</td>\n",
       "      <td>Manual</td>\n",
       "      <td>24089</td>\n",
       "      <td>Petrol</td>\n",
       "      <td>265</td>\n",
       "      <td>36.2</td>\n",
       "      <td>2.0</td>\n",
       "    </tr>\n",
       "    <tr>\n",
       "      <th>1</th>\n",
       "      <td>GT86</td>\n",
       "      <td>2017</td>\n",
       "      <td>15995</td>\n",
       "      <td>Manual</td>\n",
       "      <td>18615</td>\n",
       "      <td>Petrol</td>\n",
       "      <td>145</td>\n",
       "      <td>36.2</td>\n",
       "      <td>2.0</td>\n",
       "    </tr>\n",
       "    <tr>\n",
       "      <th>2</th>\n",
       "      <td>GT86</td>\n",
       "      <td>2015</td>\n",
       "      <td>13998</td>\n",
       "      <td>Manual</td>\n",
       "      <td>27469</td>\n",
       "      <td>Petrol</td>\n",
       "      <td>265</td>\n",
       "      <td>36.2</td>\n",
       "      <td>2.0</td>\n",
       "    </tr>\n",
       "    <tr>\n",
       "      <th>3</th>\n",
       "      <td>GT86</td>\n",
       "      <td>2017</td>\n",
       "      <td>18998</td>\n",
       "      <td>Manual</td>\n",
       "      <td>14736</td>\n",
       "      <td>Petrol</td>\n",
       "      <td>150</td>\n",
       "      <td>36.2</td>\n",
       "      <td>2.0</td>\n",
       "    </tr>\n",
       "    <tr>\n",
       "      <th>4</th>\n",
       "      <td>GT86</td>\n",
       "      <td>2017</td>\n",
       "      <td>17498</td>\n",
       "      <td>Manual</td>\n",
       "      <td>36284</td>\n",
       "      <td>Petrol</td>\n",
       "      <td>145</td>\n",
       "      <td>36.2</td>\n",
       "      <td>2.0</td>\n",
       "    </tr>\n",
       "  </tbody>\n",
       "</table>\n",
       "</div>"
      ],
      "text/plain": [
       "   model  year  price transmission  mileage fuelType  tax   mpg  engineSize\n",
       "0   GT86  2016  16000       Manual    24089   Petrol  265  36.2         2.0\n",
       "1   GT86  2017  15995       Manual    18615   Petrol  145  36.2         2.0\n",
       "2   GT86  2015  13998       Manual    27469   Petrol  265  36.2         2.0\n",
       "3   GT86  2017  18998       Manual    14736   Petrol  150  36.2         2.0\n",
       "4   GT86  2017  17498       Manual    36284   Petrol  145  36.2         2.0"
      ]
     },
     "metadata": {},
     "execution_count": 17
    }
   ],
   "metadata": {}
  },
  {
   "cell_type": "markdown",
   "source": [
    "## Understanding the dataset \r\n",
    "\r\n",
    "<p>In this section we will try to analyze what data is given to us and find if there are any missing values that needs to replaced.</p>"
   ],
   "metadata": {}
  },
  {
   "cell_type": "code",
   "execution_count": 18,
   "source": [
    "toyota_df.info()"
   ],
   "outputs": [
    {
     "output_type": "stream",
     "name": "stdout",
     "text": [
      "<class 'pandas.core.frame.DataFrame'>\n",
      "RangeIndex: 6738 entries, 0 to 6737\n",
      "Data columns (total 9 columns):\n",
      " #   Column        Non-Null Count  Dtype  \n",
      "---  ------        --------------  -----  \n",
      " 0   model         6738 non-null   object \n",
      " 1   year          6738 non-null   int64  \n",
      " 2   price         6738 non-null   int64  \n",
      " 3   transmission  6738 non-null   object \n",
      " 4   mileage       6738 non-null   int64  \n",
      " 5   fuelType      6738 non-null   object \n",
      " 6   tax           6738 non-null   int64  \n",
      " 7   mpg           6738 non-null   float64\n",
      " 8   engineSize    6738 non-null   float64\n",
      "dtypes: float64(2), int64(4), object(3)\n",
      "memory usage: 473.9+ KB\n"
     ]
    }
   ],
   "metadata": {}
  },
  {
   "cell_type": "code",
   "execution_count": 19,
   "source": [
    "toyota_df.describe()"
   ],
   "outputs": [
    {
     "output_type": "execute_result",
     "data": {
      "text/html": [
       "<div>\n",
       "<style scoped>\n",
       "    .dataframe tbody tr th:only-of-type {\n",
       "        vertical-align: middle;\n",
       "    }\n",
       "\n",
       "    .dataframe tbody tr th {\n",
       "        vertical-align: top;\n",
       "    }\n",
       "\n",
       "    .dataframe thead th {\n",
       "        text-align: right;\n",
       "    }\n",
       "</style>\n",
       "<table border=\"1\" class=\"dataframe\">\n",
       "  <thead>\n",
       "    <tr style=\"text-align: right;\">\n",
       "      <th></th>\n",
       "      <th>year</th>\n",
       "      <th>price</th>\n",
       "      <th>mileage</th>\n",
       "      <th>tax</th>\n",
       "      <th>mpg</th>\n",
       "      <th>engineSize</th>\n",
       "    </tr>\n",
       "  </thead>\n",
       "  <tbody>\n",
       "    <tr>\n",
       "      <th>count</th>\n",
       "      <td>6738.000000</td>\n",
       "      <td>6738.000000</td>\n",
       "      <td>6738.000000</td>\n",
       "      <td>6738.000000</td>\n",
       "      <td>6738.000000</td>\n",
       "      <td>6738.000000</td>\n",
       "    </tr>\n",
       "    <tr>\n",
       "      <th>mean</th>\n",
       "      <td>2016.748145</td>\n",
       "      <td>12522.391066</td>\n",
       "      <td>22857.413921</td>\n",
       "      <td>94.697240</td>\n",
       "      <td>63.042223</td>\n",
       "      <td>1.471297</td>\n",
       "    </tr>\n",
       "    <tr>\n",
       "      <th>std</th>\n",
       "      <td>2.204062</td>\n",
       "      <td>6345.017587</td>\n",
       "      <td>19125.464147</td>\n",
       "      <td>73.880776</td>\n",
       "      <td>15.836710</td>\n",
       "      <td>0.436159</td>\n",
       "    </tr>\n",
       "    <tr>\n",
       "      <th>min</th>\n",
       "      <td>1998.000000</td>\n",
       "      <td>850.000000</td>\n",
       "      <td>2.000000</td>\n",
       "      <td>0.000000</td>\n",
       "      <td>2.800000</td>\n",
       "      <td>0.000000</td>\n",
       "    </tr>\n",
       "    <tr>\n",
       "      <th>25%</th>\n",
       "      <td>2016.000000</td>\n",
       "      <td>8290.000000</td>\n",
       "      <td>9446.000000</td>\n",
       "      <td>0.000000</td>\n",
       "      <td>55.400000</td>\n",
       "      <td>1.000000</td>\n",
       "    </tr>\n",
       "    <tr>\n",
       "      <th>50%</th>\n",
       "      <td>2017.000000</td>\n",
       "      <td>10795.000000</td>\n",
       "      <td>18513.000000</td>\n",
       "      <td>135.000000</td>\n",
       "      <td>62.800000</td>\n",
       "      <td>1.500000</td>\n",
       "    </tr>\n",
       "    <tr>\n",
       "      <th>75%</th>\n",
       "      <td>2018.000000</td>\n",
       "      <td>14995.000000</td>\n",
       "      <td>31063.750000</td>\n",
       "      <td>145.000000</td>\n",
       "      <td>69.000000</td>\n",
       "      <td>1.800000</td>\n",
       "    </tr>\n",
       "    <tr>\n",
       "      <th>max</th>\n",
       "      <td>2020.000000</td>\n",
       "      <td>59995.000000</td>\n",
       "      <td>174419.000000</td>\n",
       "      <td>565.000000</td>\n",
       "      <td>235.000000</td>\n",
       "      <td>4.500000</td>\n",
       "    </tr>\n",
       "  </tbody>\n",
       "</table>\n",
       "</div>"
      ],
      "text/plain": [
       "              year         price        mileage          tax          mpg  \\\n",
       "count  6738.000000   6738.000000    6738.000000  6738.000000  6738.000000   \n",
       "mean   2016.748145  12522.391066   22857.413921    94.697240    63.042223   \n",
       "std       2.204062   6345.017587   19125.464147    73.880776    15.836710   \n",
       "min    1998.000000    850.000000       2.000000     0.000000     2.800000   \n",
       "25%    2016.000000   8290.000000    9446.000000     0.000000    55.400000   \n",
       "50%    2017.000000  10795.000000   18513.000000   135.000000    62.800000   \n",
       "75%    2018.000000  14995.000000   31063.750000   145.000000    69.000000   \n",
       "max    2020.000000  59995.000000  174419.000000   565.000000   235.000000   \n",
       "\n",
       "        engineSize  \n",
       "count  6738.000000  \n",
       "mean      1.471297  \n",
       "std       0.436159  \n",
       "min       0.000000  \n",
       "25%       1.000000  \n",
       "50%       1.500000  \n",
       "75%       1.800000  \n",
       "max       4.500000  "
      ]
     },
     "metadata": {},
     "execution_count": 19
    }
   ],
   "metadata": {}
  },
  {
   "cell_type": "code",
   "execution_count": 20,
   "source": [
    "toyota_df.nunique()"
   ],
   "outputs": [
    {
     "output_type": "execute_result",
     "data": {
      "text/plain": [
       "model             18\n",
       "year              23\n",
       "price           2114\n",
       "transmission       4\n",
       "mileage         5699\n",
       "fuelType           4\n",
       "tax               29\n",
       "mpg               81\n",
       "engineSize        16\n",
       "dtype: int64"
      ]
     },
     "metadata": {},
     "execution_count": 20
    }
   ],
   "metadata": {}
  },
  {
   "cell_type": "code",
   "execution_count": 21,
   "source": [
    "#Checkig if any of the values in the dataset is null\r\n",
    "toyota_df.isnull().sum()"
   ],
   "outputs": [
    {
     "output_type": "execute_result",
     "data": {
      "text/plain": [
       "model           0\n",
       "year            0\n",
       "price           0\n",
       "transmission    0\n",
       "mileage         0\n",
       "fuelType        0\n",
       "tax             0\n",
       "mpg             0\n",
       "engineSize      0\n",
       "dtype: int64"
      ]
     },
     "metadata": {},
     "execution_count": 21
    }
   ],
   "metadata": {}
  },
  {
   "cell_type": "markdown",
   "source": [
    "<p>From the data analysis we do see that there are <b>no null</b> values. Data consists of 18 distinct car models with 6738 individual cars and ranges from 1998 car till 2020.<p>Since the problem statement is to find the an algorithm for the sales inorder to give a pricing model. <b>Price </b> is our target variable. The price ranges from $850 - $59,995.</p>"
   ],
   "metadata": {}
  },
  {
   "cell_type": "markdown",
   "source": [
    "## Data Visualization\n",
    "\n",
    "<p>In this section we will try and find different parameters that are correlated with the price of the car.</p>"
   ],
   "metadata": {}
  },
  {
   "cell_type": "code",
   "execution_count": 22,
   "source": [
    "num_cars = toyota_df.groupby('model').size().reset_index(name='counts')\r\n",
    "num_cars.sort_values(by='counts',ascending=False)"
   ],
   "outputs": [
    {
     "output_type": "execute_result",
     "data": {
      "text/html": [
       "<div>\n",
       "<style scoped>\n",
       "    .dataframe tbody tr th:only-of-type {\n",
       "        vertical-align: middle;\n",
       "    }\n",
       "\n",
       "    .dataframe tbody tr th {\n",
       "        vertical-align: top;\n",
       "    }\n",
       "\n",
       "    .dataframe thead th {\n",
       "        text-align: right;\n",
       "    }\n",
       "</style>\n",
       "<table border=\"1\" class=\"dataframe\">\n",
       "  <thead>\n",
       "    <tr style=\"text-align: right;\">\n",
       "      <th></th>\n",
       "      <th>model</th>\n",
       "      <th>counts</th>\n",
       "    </tr>\n",
       "  </thead>\n",
       "  <tbody>\n",
       "    <tr>\n",
       "      <th>17</th>\n",
       "      <td>Yaris</td>\n",
       "      <td>2122</td>\n",
       "    </tr>\n",
       "    <tr>\n",
       "      <th>2</th>\n",
       "      <td>Aygo</td>\n",
       "      <td>1961</td>\n",
       "    </tr>\n",
       "    <tr>\n",
       "      <th>0</th>\n",
       "      <td>Auris</td>\n",
       "      <td>712</td>\n",
       "    </tr>\n",
       "    <tr>\n",
       "      <th>3</th>\n",
       "      <td>C-HR</td>\n",
       "      <td>479</td>\n",
       "    </tr>\n",
       "    <tr>\n",
       "      <th>12</th>\n",
       "      <td>RAV4</td>\n",
       "      <td>473</td>\n",
       "    </tr>\n",
       "    <tr>\n",
       "      <th>5</th>\n",
       "      <td>Corolla</td>\n",
       "      <td>267</td>\n",
       "    </tr>\n",
       "    <tr>\n",
       "      <th>11</th>\n",
       "      <td>Prius</td>\n",
       "      <td>232</td>\n",
       "    </tr>\n",
       "    <tr>\n",
       "      <th>1</th>\n",
       "      <td>Avensis</td>\n",
       "      <td>115</td>\n",
       "    </tr>\n",
       "    <tr>\n",
       "      <th>15</th>\n",
       "      <td>Verso</td>\n",
       "      <td>114</td>\n",
       "    </tr>\n",
       "    <tr>\n",
       "      <th>7</th>\n",
       "      <td>Hilux</td>\n",
       "      <td>86</td>\n",
       "    </tr>\n",
       "    <tr>\n",
       "      <th>6</th>\n",
       "      <td>GT86</td>\n",
       "      <td>73</td>\n",
       "    </tr>\n",
       "    <tr>\n",
       "      <th>9</th>\n",
       "      <td>Land Cruiser</td>\n",
       "      <td>51</td>\n",
       "    </tr>\n",
       "    <tr>\n",
       "      <th>10</th>\n",
       "      <td>PROACE VERSO</td>\n",
       "      <td>15</td>\n",
       "    </tr>\n",
       "    <tr>\n",
       "      <th>13</th>\n",
       "      <td>Supra</td>\n",
       "      <td>12</td>\n",
       "    </tr>\n",
       "    <tr>\n",
       "      <th>4</th>\n",
       "      <td>Camry</td>\n",
       "      <td>11</td>\n",
       "    </tr>\n",
       "    <tr>\n",
       "      <th>8</th>\n",
       "      <td>IQ</td>\n",
       "      <td>8</td>\n",
       "    </tr>\n",
       "    <tr>\n",
       "      <th>14</th>\n",
       "      <td>Urban Cruiser</td>\n",
       "      <td>4</td>\n",
       "    </tr>\n",
       "    <tr>\n",
       "      <th>16</th>\n",
       "      <td>Verso-S</td>\n",
       "      <td>3</td>\n",
       "    </tr>\n",
       "  </tbody>\n",
       "</table>\n",
       "</div>"
      ],
      "text/plain": [
       "             model  counts\n",
       "17           Yaris    2122\n",
       "2             Aygo    1961\n",
       "0            Auris     712\n",
       "3             C-HR     479\n",
       "12            RAV4     473\n",
       "5          Corolla     267\n",
       "11           Prius     232\n",
       "1          Avensis     115\n",
       "15           Verso     114\n",
       "7            Hilux      86\n",
       "6             GT86      73\n",
       "9     Land Cruiser      51\n",
       "10    PROACE VERSO      15\n",
       "13           Supra      12\n",
       "4            Camry      11\n",
       "8               IQ       8\n",
       "14   Urban Cruiser       4\n",
       "16         Verso-S       3"
      ]
     },
     "metadata": {},
     "execution_count": 22
    }
   ],
   "metadata": {}
  },
  {
   "cell_type": "code",
   "execution_count": 23,
   "source": [
    "fig, ax = plt.subplots(figsize=(20, 6))\r\n",
    "sns.barplot(x='model',y='counts',data=num_cars)\r\n",
    "plt.xticks(rotation=45)\r\n",
    "plt.xlabel('Model')\r\n",
    "plt.ylabel('# of Cars')\r\n",
    "plt.title('Different Cars')\r\n",
    "plt.show()"
   ],
   "outputs": [
    {
     "output_type": "display_data",
     "data": {
      "image/png": "[encoded data removed]",
      "text/plain": [
       "<Figure size 1440x432 with 1 Axes>"
      ]
     },
     "metadata": {
      "needs_background": "light"
     }
    }
   ],
   "metadata": {}
  },
  {
   "cell_type": "markdown",
   "source": [
    "### Price comparison to other features\n",
    "\n",
    "<p> Price is compared with Fuel Type, Year, Mileage on the car </p>"
   ],
   "metadata": {}
  },
  {
   "cell_type": "code",
   "execution_count": 24,
   "source": [
    "fig, ax = plt.subplots(figsize=(8, 6))\r\n",
    "sns.histplot(x='price',data=toyota_df,bins=10,kde=True)\r\n",
    "plt.xlabel('Price')\r\n",
    "plt.ylabel('# of Cars')\r\n",
    "plt.title('Price of the Car')\r\n",
    "plt.show()"
   ],
   "outputs": [
    {
     "output_type": "display_data",
     "data": {
      "image/png": "[encoded data removed]",
      "text/plain": [
       "<Figure size 576x432 with 1 Axes>"
      ]
     },
     "metadata": {
      "needs_background": "light"
     }
    }
   ],
   "metadata": {}
  },
  {
   "cell_type": "code",
   "execution_count": 25,
   "source": [
    "fig, ax = plt.subplots(figsize=(12, 6))\r\n",
    "sns.barplot(x='year',y='price',data=toyota_df)\r\n",
    "plt.xlabel('Year')\r\n",
    "plt.ylabel('Price')\r\n",
    "plt.title('Year vs Price of the Car')\r\n",
    "plt.show()"
   ],
   "outputs": [
    {
     "output_type": "display_data",
     "data": {
      "image/png": "[encoded data removed]",
      "text/plain": [
       "<Figure size 864x432 with 1 Axes>"
      ]
     },
     "metadata": {
      "needs_background": "light"
     }
    }
   ],
   "metadata": {}
  },
  {
   "cell_type": "code",
   "execution_count": 26,
   "source": [
    "fig, ax = plt.subplots(figsize=(8, 6))\r\n",
    "sns.histplot(x='mileage',y='price',data=toyota_df,bins=10)\r\n",
    "plt.xlabel('Mileage')\r\n",
    "plt.ylabel('Price')\r\n",
    "plt.title('Mileage vs Price of the Car')\r\n",
    "plt.show()"
   ],
   "outputs": [
    {
     "output_type": "display_data",
     "data": {
      "image/png": "[encoded data removed]",
      "text/plain": [
       "<Figure size 576x432 with 1 Axes>"
      ]
     },
     "metadata": {
      "needs_background": "light"
     }
    }
   ],
   "metadata": {}
  },
  {
   "cell_type": "code",
   "execution_count": 27,
   "source": [
    "fig, ax = plt.subplots(figsize=(12, 6))\r\n",
    "sns.barplot(x='fuelType',y='price',data=toyota_df)\r\n",
    "plt.xlabel('Fuel Type')\r\n",
    "plt.ylabel('Price')\r\n",
    "plt.title('Fuel Type vs Price of the Car')\r\n",
    "plt.show()"
   ],
   "outputs": [
    {
     "output_type": "display_data",
     "data": {
      "image/png": "[encoded data removed]",
      "text/plain": [
       "<Figure size 864x432 with 1 Axes>"
      ]
     },
     "metadata": {
      "needs_background": "light"
     }
    }
   ],
   "metadata": {}
  },
  {
   "cell_type": "code",
   "execution_count": 28,
   "source": [
    "fig, ax = plt.subplots(figsize=(20, 6))\r\n",
    "sns.barplot(x='model',y='mpg',data=toyota_df)\r\n",
    "plt.xticks(rotation=45)\r\n",
    "plt.xlabel('Model')\r\n",
    "plt.ylabel('MPG')\r\n",
    "plt.title('Model vs MPG of the Car')\r\n",
    "plt.show()"
   ],
   "outputs": [
    {
     "output_type": "display_data",
     "data": {
      "image/png": "[encoded data removed]",
      "text/plain": [
       "<Figure size 1440x432 with 1 Axes>"
      ]
     },
     "metadata": {
      "needs_background": "light"
     }
    }
   ],
   "metadata": {}
  },
  {
   "cell_type": "markdown",
   "source": [
    "### Finding the most expensive cars\n",
    "\n",
    "<p> From the histogram we did see that the data consists of very few expensive cars and would like to analyze as to which model and years do they belong to inorder to better get an understanding for the pricing </p>"
   ],
   "metadata": {}
  },
  {
   "cell_type": "code",
   "execution_count": 29,
   "source": [
    "num_car_30k = toyota_df[toyota_df['price'] > 30000].value_counts().reset_index()\r\n",
    "num_car_30k"
   ],
   "outputs": [
    {
     "output_type": "execute_result",
     "data": {
      "text/html": [
       "<div>\n",
       "<style scoped>\n",
       "    .dataframe tbody tr th:only-of-type {\n",
       "        vertical-align: middle;\n",
       "    }\n",
       "\n",
       "    .dataframe tbody tr th {\n",
       "        vertical-align: top;\n",
       "    }\n",
       "\n",
       "    .dataframe thead th {\n",
       "        text-align: right;\n",
       "    }\n",
       "</style>\n",
       "<table border=\"1\" class=\"dataframe\">\n",
       "  <thead>\n",
       "    <tr style=\"text-align: right;\">\n",
       "      <th></th>\n",
       "      <th>model</th>\n",
       "      <th>year</th>\n",
       "      <th>price</th>\n",
       "      <th>transmission</th>\n",
       "      <th>mileage</th>\n",
       "      <th>fuelType</th>\n",
       "      <th>tax</th>\n",
       "      <th>mpg</th>\n",
       "      <th>engineSize</th>\n",
       "      <th>0</th>\n",
       "    </tr>\n",
       "  </thead>\n",
       "  <tbody>\n",
       "    <tr>\n",
       "      <th>0</th>\n",
       "      <td>C-HR</td>\n",
       "      <td>2019</td>\n",
       "      <td>30990</td>\n",
       "      <td>Automatic</td>\n",
       "      <td>2500</td>\n",
       "      <td>Hybrid</td>\n",
       "      <td>140</td>\n",
       "      <td>54.3</td>\n",
       "      <td>2.0</td>\n",
       "      <td>1</td>\n",
       "    </tr>\n",
       "    <tr>\n",
       "      <th>1</th>\n",
       "      <td>RAV4</td>\n",
       "      <td>2019</td>\n",
       "      <td>33950</td>\n",
       "      <td>Automatic</td>\n",
       "      <td>9125</td>\n",
       "      <td>Hybrid</td>\n",
       "      <td>140</td>\n",
       "      <td>49.6</td>\n",
       "      <td>2.5</td>\n",
       "      <td>1</td>\n",
       "    </tr>\n",
       "    <tr>\n",
       "      <th>2</th>\n",
       "      <td>RAV4</td>\n",
       "      <td>2019</td>\n",
       "      <td>33880</td>\n",
       "      <td>Automatic</td>\n",
       "      <td>7576</td>\n",
       "      <td>Hybrid</td>\n",
       "      <td>140</td>\n",
       "      <td>49.6</td>\n",
       "      <td>2.5</td>\n",
       "      <td>1</td>\n",
       "    </tr>\n",
       "    <tr>\n",
       "      <th>3</th>\n",
       "      <td>RAV4</td>\n",
       "      <td>2019</td>\n",
       "      <td>33626</td>\n",
       "      <td>Automatic</td>\n",
       "      <td>7191</td>\n",
       "      <td>Hybrid</td>\n",
       "      <td>135</td>\n",
       "      <td>49.6</td>\n",
       "      <td>2.5</td>\n",
       "      <td>1</td>\n",
       "    </tr>\n",
       "    <tr>\n",
       "      <th>4</th>\n",
       "      <td>RAV4</td>\n",
       "      <td>2019</td>\n",
       "      <td>33595</td>\n",
       "      <td>Automatic</td>\n",
       "      <td>8000</td>\n",
       "      <td>Hybrid</td>\n",
       "      <td>140</td>\n",
       "      <td>49.6</td>\n",
       "      <td>2.5</td>\n",
       "      <td>1</td>\n",
       "    </tr>\n",
       "    <tr>\n",
       "      <th>...</th>\n",
       "      <td>...</td>\n",
       "      <td>...</td>\n",
       "      <td>...</td>\n",
       "      <td>...</td>\n",
       "      <td>...</td>\n",
       "      <td>...</td>\n",
       "      <td>...</td>\n",
       "      <td>...</td>\n",
       "      <td>...</td>\n",
       "      <td>...</td>\n",
       "    </tr>\n",
       "    <tr>\n",
       "      <th>85</th>\n",
       "      <td>Land Cruiser</td>\n",
       "      <td>2019</td>\n",
       "      <td>42990</td>\n",
       "      <td>Semi-Auto</td>\n",
       "      <td>22845</td>\n",
       "      <td>Diesel</td>\n",
       "      <td>150</td>\n",
       "      <td>30.1</td>\n",
       "      <td>2.8</td>\n",
       "      <td>1</td>\n",
       "    </tr>\n",
       "    <tr>\n",
       "      <th>86</th>\n",
       "      <td>Land Cruiser</td>\n",
       "      <td>2019</td>\n",
       "      <td>42444</td>\n",
       "      <td>Semi-Auto</td>\n",
       "      <td>10083</td>\n",
       "      <td>Diesel</td>\n",
       "      <td>145</td>\n",
       "      <td>30.1</td>\n",
       "      <td>2.8</td>\n",
       "      <td>1</td>\n",
       "    </tr>\n",
       "    <tr>\n",
       "      <th>87</th>\n",
       "      <td>Land Cruiser</td>\n",
       "      <td>2019</td>\n",
       "      <td>40999</td>\n",
       "      <td>Semi-Auto</td>\n",
       "      <td>11619</td>\n",
       "      <td>Diesel</td>\n",
       "      <td>145</td>\n",
       "      <td>30.1</td>\n",
       "      <td>2.8</td>\n",
       "      <td>1</td>\n",
       "    </tr>\n",
       "    <tr>\n",
       "      <th>88</th>\n",
       "      <td>Land Cruiser</td>\n",
       "      <td>2019</td>\n",
       "      <td>40995</td>\n",
       "      <td>Semi-Auto</td>\n",
       "      <td>11404</td>\n",
       "      <td>Diesel</td>\n",
       "      <td>145</td>\n",
       "      <td>30.1</td>\n",
       "      <td>2.8</td>\n",
       "      <td>1</td>\n",
       "    </tr>\n",
       "    <tr>\n",
       "      <th>89</th>\n",
       "      <td>Supra</td>\n",
       "      <td>2019</td>\n",
       "      <td>59995</td>\n",
       "      <td>Automatic</td>\n",
       "      <td>9909</td>\n",
       "      <td>Other</td>\n",
       "      <td>150</td>\n",
       "      <td>34.5</td>\n",
       "      <td>3.0</td>\n",
       "      <td>1</td>\n",
       "    </tr>\n",
       "  </tbody>\n",
       "</table>\n",
       "<p>90 rows × 10 columns</p>\n",
       "</div>"
      ],
      "text/plain": [
       "            model  year  price transmission  mileage fuelType  tax   mpg  \\\n",
       "0            C-HR  2019  30990    Automatic     2500   Hybrid  140  54.3   \n",
       "1            RAV4  2019  33950    Automatic     9125   Hybrid  140  49.6   \n",
       "2            RAV4  2019  33880    Automatic     7576   Hybrid  140  49.6   \n",
       "3            RAV4  2019  33626    Automatic     7191   Hybrid  135  49.6   \n",
       "4            RAV4  2019  33595    Automatic     8000   Hybrid  140  49.6   \n",
       "..            ...   ...    ...          ...      ...      ...  ...   ...   \n",
       "85   Land Cruiser  2019  42990    Semi-Auto    22845   Diesel  150  30.1   \n",
       "86   Land Cruiser  2019  42444    Semi-Auto    10083   Diesel  145  30.1   \n",
       "87   Land Cruiser  2019  40999    Semi-Auto    11619   Diesel  145  30.1   \n",
       "88   Land Cruiser  2019  40995    Semi-Auto    11404   Diesel  145  30.1   \n",
       "89          Supra  2019  59995    Automatic     9909    Other  150  34.5   \n",
       "\n",
       "    engineSize  0  \n",
       "0          2.0  1  \n",
       "1          2.5  1  \n",
       "2          2.5  1  \n",
       "3          2.5  1  \n",
       "4          2.5  1  \n",
       "..         ... ..  \n",
       "85         2.8  1  \n",
       "86         2.8  1  \n",
       "87         2.8  1  \n",
       "88         2.8  1  \n",
       "89         3.0  1  \n",
       "\n",
       "[90 rows x 10 columns]"
      ]
     },
     "metadata": {},
     "execution_count": 29
    }
   ],
   "metadata": {}
  },
  {
   "cell_type": "code",
   "execution_count": 14,
   "source": [
    "model_30k = num_car_30k.groupby('model').size().reset_index(name='counts')\r\n",
    "model_30k"
   ],
   "outputs": [
    {
     "output_type": "execute_result",
     "data": {
      "text/html": [
       "<div>\n",
       "<style scoped>\n",
       "    .dataframe tbody tr th:only-of-type {\n",
       "        vertical-align: middle;\n",
       "    }\n",
       "\n",
       "    .dataframe tbody tr th {\n",
       "        vertical-align: top;\n",
       "    }\n",
       "\n",
       "    .dataframe thead th {\n",
       "        text-align: right;\n",
       "    }\n",
       "</style>\n",
       "<table border=\"1\" class=\"dataframe\">\n",
       "  <thead>\n",
       "    <tr style=\"text-align: right;\">\n",
       "      <th></th>\n",
       "      <th>model</th>\n",
       "      <th>counts</th>\n",
       "    </tr>\n",
       "  </thead>\n",
       "  <tbody>\n",
       "    <tr>\n",
       "      <th>0</th>\n",
       "      <td>C-HR</td>\n",
       "      <td>1</td>\n",
       "    </tr>\n",
       "    <tr>\n",
       "      <th>1</th>\n",
       "      <td>GT86</td>\n",
       "      <td>1</td>\n",
       "    </tr>\n",
       "    <tr>\n",
       "      <th>2</th>\n",
       "      <td>Hilux</td>\n",
       "      <td>6</td>\n",
       "    </tr>\n",
       "    <tr>\n",
       "      <th>3</th>\n",
       "      <td>Land Cruiser</td>\n",
       "      <td>38</td>\n",
       "    </tr>\n",
       "    <tr>\n",
       "      <th>4</th>\n",
       "      <td>PROACE VERSO</td>\n",
       "      <td>2</td>\n",
       "    </tr>\n",
       "    <tr>\n",
       "      <th>5</th>\n",
       "      <td>Prius</td>\n",
       "      <td>1</td>\n",
       "    </tr>\n",
       "    <tr>\n",
       "      <th>6</th>\n",
       "      <td>RAV4</td>\n",
       "      <td>29</td>\n",
       "    </tr>\n",
       "    <tr>\n",
       "      <th>7</th>\n",
       "      <td>Supra</td>\n",
       "      <td>12</td>\n",
       "    </tr>\n",
       "  </tbody>\n",
       "</table>\n",
       "</div>"
      ],
      "text/plain": [
       "           model  counts\n",
       "0           C-HR       1\n",
       "1           GT86       1\n",
       "2          Hilux       6\n",
       "3   Land Cruiser      38\n",
       "4   PROACE VERSO       2\n",
       "5          Prius       1\n",
       "6           RAV4      29\n",
       "7          Supra      12"
      ]
     },
     "metadata": {},
     "execution_count": 14
    }
   ],
   "metadata": {}
  },
  {
   "cell_type": "code",
   "execution_count": 15,
   "source": [
    "fig, ax = plt.subplots(figsize=(12, 6))\r\n",
    "sns.barplot(x='model',y='counts',data=model_30k)\r\n",
    "plt.xticks(rotation=45)\r\n",
    "plt.xlabel('Model')\r\n",
    "plt.ylabel('# of Cars')\r\n",
    "plt.title('Cars priced > 30k')\r\n",
    "plt.show()"
   ],
   "outputs": [
    {
     "output_type": "display_data",
     "data": {
      "image/png": "[encoded data removed]",
      "text/plain": [
       "<Figure size 864x432 with 1 Axes>"
      ]
     },
     "metadata": {
      "needs_background": "light"
     }
    }
   ],
   "metadata": {}
  },
  {
   "cell_type": "code",
   "execution_count": 16,
   "source": [
    "model_year_30k = num_car_30k.groupby(['model','year']).size().reset_index(name='counts')\r\n",
    "model_year_30k"
   ],
   "outputs": [
    {
     "output_type": "execute_result",
     "data": {
      "text/html": [
       "<div>\n",
       "<style scoped>\n",
       "    .dataframe tbody tr th:only-of-type {\n",
       "        vertical-align: middle;\n",
       "    }\n",
       "\n",
       "    .dataframe tbody tr th {\n",
       "        vertical-align: top;\n",
       "    }\n",
       "\n",
       "    .dataframe thead th {\n",
       "        text-align: right;\n",
       "    }\n",
       "</style>\n",
       "<table border=\"1\" class=\"dataframe\">\n",
       "  <thead>\n",
       "    <tr style=\"text-align: right;\">\n",
       "      <th></th>\n",
       "      <th>model</th>\n",
       "      <th>year</th>\n",
       "      <th>counts</th>\n",
       "    </tr>\n",
       "  </thead>\n",
       "  <tbody>\n",
       "    <tr>\n",
       "      <th>0</th>\n",
       "      <td>C-HR</td>\n",
       "      <td>2019</td>\n",
       "      <td>1</td>\n",
       "    </tr>\n",
       "    <tr>\n",
       "      <th>1</th>\n",
       "      <td>GT86</td>\n",
       "      <td>2020</td>\n",
       "      <td>1</td>\n",
       "    </tr>\n",
       "    <tr>\n",
       "      <th>2</th>\n",
       "      <td>Hilux</td>\n",
       "      <td>2019</td>\n",
       "      <td>3</td>\n",
       "    </tr>\n",
       "    <tr>\n",
       "      <th>3</th>\n",
       "      <td>Hilux</td>\n",
       "      <td>2020</td>\n",
       "      <td>3</td>\n",
       "    </tr>\n",
       "    <tr>\n",
       "      <th>4</th>\n",
       "      <td>Land Cruiser</td>\n",
       "      <td>2014</td>\n",
       "      <td>2</td>\n",
       "    </tr>\n",
       "    <tr>\n",
       "      <th>5</th>\n",
       "      <td>Land Cruiser</td>\n",
       "      <td>2015</td>\n",
       "      <td>3</td>\n",
       "    </tr>\n",
       "    <tr>\n",
       "      <th>6</th>\n",
       "      <td>Land Cruiser</td>\n",
       "      <td>2016</td>\n",
       "      <td>2</td>\n",
       "    </tr>\n",
       "    <tr>\n",
       "      <th>7</th>\n",
       "      <td>Land Cruiser</td>\n",
       "      <td>2017</td>\n",
       "      <td>7</td>\n",
       "    </tr>\n",
       "    <tr>\n",
       "      <th>8</th>\n",
       "      <td>Land Cruiser</td>\n",
       "      <td>2018</td>\n",
       "      <td>1</td>\n",
       "    </tr>\n",
       "    <tr>\n",
       "      <th>9</th>\n",
       "      <td>Land Cruiser</td>\n",
       "      <td>2019</td>\n",
       "      <td>15</td>\n",
       "    </tr>\n",
       "    <tr>\n",
       "      <th>10</th>\n",
       "      <td>Land Cruiser</td>\n",
       "      <td>2020</td>\n",
       "      <td>8</td>\n",
       "    </tr>\n",
       "    <tr>\n",
       "      <th>11</th>\n",
       "      <td>PROACE VERSO</td>\n",
       "      <td>2020</td>\n",
       "      <td>2</td>\n",
       "    </tr>\n",
       "    <tr>\n",
       "      <th>12</th>\n",
       "      <td>Prius</td>\n",
       "      <td>2020</td>\n",
       "      <td>1</td>\n",
       "    </tr>\n",
       "    <tr>\n",
       "      <th>13</th>\n",
       "      <td>RAV4</td>\n",
       "      <td>2019</td>\n",
       "      <td>25</td>\n",
       "    </tr>\n",
       "    <tr>\n",
       "      <th>14</th>\n",
       "      <td>RAV4</td>\n",
       "      <td>2020</td>\n",
       "      <td>4</td>\n",
       "    </tr>\n",
       "    <tr>\n",
       "      <th>15</th>\n",
       "      <td>Supra</td>\n",
       "      <td>2019</td>\n",
       "      <td>12</td>\n",
       "    </tr>\n",
       "  </tbody>\n",
       "</table>\n",
       "</div>"
      ],
      "text/plain": [
       "            model  year  counts\n",
       "0            C-HR  2019       1\n",
       "1            GT86  2020       1\n",
       "2           Hilux  2019       3\n",
       "3           Hilux  2020       3\n",
       "4    Land Cruiser  2014       2\n",
       "5    Land Cruiser  2015       3\n",
       "6    Land Cruiser  2016       2\n",
       "7    Land Cruiser  2017       7\n",
       "8    Land Cruiser  2018       1\n",
       "9    Land Cruiser  2019      15\n",
       "10   Land Cruiser  2020       8\n",
       "11   PROACE VERSO  2020       2\n",
       "12          Prius  2020       1\n",
       "13           RAV4  2019      25\n",
       "14           RAV4  2020       4\n",
       "15          Supra  2019      12"
      ]
     },
     "metadata": {},
     "execution_count": 16
    }
   ],
   "metadata": {}
  },
  {
   "cell_type": "code",
   "execution_count": 17,
   "source": [
    "min_max_value = toyota_df.groupby('model')['price'].agg(['min','max','mean']).reset_index()\r\n",
    "min_max_value"
   ],
   "outputs": [
    {
     "output_type": "execute_result",
     "data": {
      "text/html": [
       "<div>\n",
       "<style scoped>\n",
       "    .dataframe tbody tr th:only-of-type {\n",
       "        vertical-align: middle;\n",
       "    }\n",
       "\n",
       "    .dataframe tbody tr th {\n",
       "        vertical-align: top;\n",
       "    }\n",
       "\n",
       "    .dataframe thead th {\n",
       "        text-align: right;\n",
       "    }\n",
       "</style>\n",
       "<table border=\"1\" class=\"dataframe\">\n",
       "  <thead>\n",
       "    <tr style=\"text-align: right;\">\n",
       "      <th></th>\n",
       "      <th>model</th>\n",
       "      <th>min</th>\n",
       "      <th>max</th>\n",
       "      <th>mean</th>\n",
       "    </tr>\n",
       "  </thead>\n",
       "  <tbody>\n",
       "    <tr>\n",
       "      <th>0</th>\n",
       "      <td>Auris</td>\n",
       "      <td>1599</td>\n",
       "      <td>19300</td>\n",
       "      <td>12507.911517</td>\n",
       "    </tr>\n",
       "    <tr>\n",
       "      <th>1</th>\n",
       "      <td>Avensis</td>\n",
       "      <td>850</td>\n",
       "      <td>16495</td>\n",
       "      <td>9884.356522</td>\n",
       "    </tr>\n",
       "    <tr>\n",
       "      <th>2</th>\n",
       "      <td>Aygo</td>\n",
       "      <td>1295</td>\n",
       "      <td>15000</td>\n",
       "      <td>7905.414584</td>\n",
       "    </tr>\n",
       "    <tr>\n",
       "      <th>3</th>\n",
       "      <td>C-HR</td>\n",
       "      <td>11995</td>\n",
       "      <td>30990</td>\n",
       "      <td>20651.540710</td>\n",
       "    </tr>\n",
       "    <tr>\n",
       "      <th>4</th>\n",
       "      <td>Camry</td>\n",
       "      <td>24990</td>\n",
       "      <td>29990</td>\n",
       "      <td>26910.090909</td>\n",
       "    </tr>\n",
       "    <tr>\n",
       "      <th>5</th>\n",
       "      <td>Corolla</td>\n",
       "      <td>899</td>\n",
       "      <td>29450</td>\n",
       "      <td>20942.734082</td>\n",
       "    </tr>\n",
       "    <tr>\n",
       "      <th>6</th>\n",
       "      <td>GT86</td>\n",
       "      <td>9995</td>\n",
       "      <td>31000</td>\n",
       "      <td>19908.849315</td>\n",
       "    </tr>\n",
       "    <tr>\n",
       "      <th>7</th>\n",
       "      <td>Hilux</td>\n",
       "      <td>7750</td>\n",
       "      <td>39257</td>\n",
       "      <td>21504.593023</td>\n",
       "    </tr>\n",
       "    <tr>\n",
       "      <th>8</th>\n",
       "      <td>IQ</td>\n",
       "      <td>2495</td>\n",
       "      <td>5995</td>\n",
       "      <td>4247.250000</td>\n",
       "    </tr>\n",
       "    <tr>\n",
       "      <th>9</th>\n",
       "      <td>Land Cruiser</td>\n",
       "      <td>5975</td>\n",
       "      <td>54991</td>\n",
       "      <td>36487.156863</td>\n",
       "    </tr>\n",
       "    <tr>\n",
       "      <th>10</th>\n",
       "      <td>PROACE VERSO</td>\n",
       "      <td>23950</td>\n",
       "      <td>47990</td>\n",
       "      <td>28680.200000</td>\n",
       "    </tr>\n",
       "    <tr>\n",
       "      <th>11</th>\n",
       "      <td>Prius</td>\n",
       "      <td>2495</td>\n",
       "      <td>31995</td>\n",
       "      <td>18998.844828</td>\n",
       "    </tr>\n",
       "    <tr>\n",
       "      <th>12</th>\n",
       "      <td>RAV4</td>\n",
       "      <td>1600</td>\n",
       "      <td>37440</td>\n",
       "      <td>18161.059197</td>\n",
       "    </tr>\n",
       "    <tr>\n",
       "      <th>13</th>\n",
       "      <td>Supra</td>\n",
       "      <td>47498</td>\n",
       "      <td>59995</td>\n",
       "      <td>50741.000000</td>\n",
       "    </tr>\n",
       "    <tr>\n",
       "      <th>14</th>\n",
       "      <td>Urban Cruiser</td>\n",
       "      <td>3995</td>\n",
       "      <td>4995</td>\n",
       "      <td>4617.500000</td>\n",
       "    </tr>\n",
       "    <tr>\n",
       "      <th>15</th>\n",
       "      <td>Verso</td>\n",
       "      <td>2300</td>\n",
       "      <td>17995</td>\n",
       "      <td>12169.157895</td>\n",
       "    </tr>\n",
       "    <tr>\n",
       "      <th>16</th>\n",
       "      <td>Verso-S</td>\n",
       "      <td>4450</td>\n",
       "      <td>6995</td>\n",
       "      <td>5746.666667</td>\n",
       "    </tr>\n",
       "    <tr>\n",
       "      <th>17</th>\n",
       "      <td>Yaris</td>\n",
       "      <td>950</td>\n",
       "      <td>25995</td>\n",
       "      <td>10553.083883</td>\n",
       "    </tr>\n",
       "  </tbody>\n",
       "</table>\n",
       "</div>"
      ],
      "text/plain": [
       "             model    min    max          mean\n",
       "0            Auris   1599  19300  12507.911517\n",
       "1          Avensis    850  16495   9884.356522\n",
       "2             Aygo   1295  15000   7905.414584\n",
       "3             C-HR  11995  30990  20651.540710\n",
       "4            Camry  24990  29990  26910.090909\n",
       "5          Corolla    899  29450  20942.734082\n",
       "6             GT86   9995  31000  19908.849315\n",
       "7            Hilux   7750  39257  21504.593023\n",
       "8               IQ   2495   5995   4247.250000\n",
       "9     Land Cruiser   5975  54991  36487.156863\n",
       "10    PROACE VERSO  23950  47990  28680.200000\n",
       "11           Prius   2495  31995  18998.844828\n",
       "12            RAV4   1600  37440  18161.059197\n",
       "13           Supra  47498  59995  50741.000000\n",
       "14   Urban Cruiser   3995   4995   4617.500000\n",
       "15           Verso   2300  17995  12169.157895\n",
       "16         Verso-S   4450   6995   5746.666667\n",
       "17           Yaris    950  25995  10553.083883"
      ]
     },
     "metadata": {},
     "execution_count": 17
    }
   ],
   "metadata": {}
  },
  {
   "cell_type": "markdown",
   "source": [
    "<p> Interesting facts are derived from our above analysis \r\n",
    "<ol>\r\n",
    "<li>A total of 90 cars that are price greater than 30k and comprises of 8 different models. </li>\r\n",
    "<li>Majority of the cars belong to models - <b>Land Cruiser</b> and <b>RAV4</b>. </li>\r\n",
    "<li>The most expensive car is <b>Supra</b> which is priced at 59.95k and the cheapest car being <b>Avensis</b> priced at 850.</li>\r\n",
    "</ol>\r\n",
    "</p>\r\n",
    "<p> Lets try and visualize different correlations</p>"
   ],
   "metadata": {}
  },
  {
   "cell_type": "code",
   "execution_count": 18,
   "source": [
    "fig, ax = plt.subplots(figsize=(20, 6))\r\n",
    "sns.boxplot(x='model',y='price',data=toyota_df)\r\n",
    "plt.xticks(rotation=45)\r\n",
    "plt.xlabel('Model')\r\n",
    "plt.ylabel('# of Cars')\r\n",
    "plt.title('Cars prices')\r\n",
    "plt.show()"
   ],
   "outputs": [
    {
     "output_type": "display_data",
     "data": {
      "image/png": "[encoded data removed]",
      "text/plain": [
       "<Figure size 1440x432 with 1 Axes>"
      ]
     },
     "metadata": {
      "needs_background": "light"
     }
    }
   ],
   "metadata": {}
  },
  {
   "cell_type": "code",
   "execution_count": 19,
   "source": [
    "corr_df = toyota_df.corr()\r\n",
    "fig=plt.gcf()\r\n",
    "fig.set_size_inches(12,10)\r\n",
    "sns.heatmap(data=corr_df, square=True, annot=True, cbar=True,cmap=sns.diverging_palette(220, 20, as_cmap=True))\r\n",
    "plt.show()"
   ],
   "outputs": [
    {
     "output_type": "display_data",
     "data": {
      "image/png": "[encoded data removed]",
      "text/plain": [
       "<Figure size 864x720 with 2 Axes>"
      ]
     },
     "metadata": {
      "needs_background": "light"
     }
    }
   ],
   "metadata": {}
  },
  {
   "cell_type": "code",
   "execution_count": 20,
   "source": [
    "fig.set_size_inches(10,10)\r\n",
    "sns.pairplot(corr_df)\r\n",
    "plt.show()"
   ],
   "outputs": [
    {
     "output_type": "display_data",
     "data": {
      "image/png": "[encoded data removed]",
      "text/plain": [
       "<Figure size 1080x1080 with 42 Axes>"
      ]
     },
     "metadata": {
      "needs_background": "light"
     }
    }
   ],
   "metadata": {}
  },
  {
   "cell_type": "markdown",
   "source": [
    "<p>From the correlation we can see that there is positive correlation with EngineSize and Price. However, from the scatter plot we see that there is no linear correlation between any values.</p>"
   ],
   "metadata": {}
  },
  {
   "cell_type": "markdown",
   "source": [
    "## Data Cleaning & Train Test Split\n",
    "\n",
    "<p> In this section, we will be achieving the following things \n",
    "<ol>\n",
    "<li>Converting the object columns into numerical columns inorder to feed it to different Regression Algorithms.</li>\n",
    "<li>Since the numerical values are widely ranged we will convert them using MinMax Scaler. </li>\n",
    "</ol>\n",
    "</p>"
   ],
   "metadata": {}
  },
  {
   "cell_type": "code",
   "execution_count": 21,
   "source": [
    "toyota_df.select_dtypes('object').columns"
   ],
   "outputs": [
    {
     "output_type": "execute_result",
     "data": {
      "text/plain": [
       "Index(['model', 'transmission', 'fuelType'], dtype='object')"
      ]
     },
     "metadata": {},
     "execution_count": 21
    }
   ],
   "metadata": {}
  },
  {
   "cell_type": "code",
   "execution_count": 22,
   "source": [
    "from sklearn.preprocessing import OneHotEncoder,MinMaxScaler\r\n",
    "from sklearn.model_selection import train_test_split,GridSearchCV,cross_val_score\r\n",
    "from sklearn.linear_model import LinearRegression\r\n",
    "from sklearn.tree import DecisionTreeRegressor\r\n",
    "from sklearn.ensemble import GradientBoostingRegressor,RandomForestRegressor\r\n",
    "from sklearn.metrics import mean_squared_error as MSE\r\n"
   ],
   "outputs": [],
   "metadata": {}
  },
  {
   "cell_type": "code",
   "execution_count": 23,
   "source": [
    "toyota_df.columns"
   ],
   "outputs": [
    {
     "output_type": "execute_result",
     "data": {
      "text/plain": [
       "Index(['model', 'year', 'price', 'transmission', 'mileage', 'fuelType', 'tax',\n",
       "       'mpg', 'engineSize'],\n",
       "      dtype='object')"
      ]
     },
     "metadata": {},
     "execution_count": 23
    }
   ],
   "metadata": {}
  },
  {
   "cell_type": "code",
   "execution_count": 24,
   "source": [
    "X = toyota_df.iloc[:, [0,1,3,4,5,6,7,8]]\r\n",
    "y = toyota_df.iloc[:,2]\r\n",
    "print(\"Shape of X - {}\".format(X.shape))\r\n",
    "print(\"Shape of y - {}\".format(y.shape))"
   ],
   "outputs": [
    {
     "output_type": "stream",
     "name": "stdout",
     "text": [
      "Shape of X - (6738, 8)\n",
      "Shape of y - (6738,)\n"
     ]
    }
   ],
   "metadata": {}
  },
  {
   "cell_type": "code",
   "execution_count": 25,
   "source": [
    "# Splitting the data into Train Test \r\n",
    "X_train, X_test,y_train,y_test = train_test_split(X,y,random_state=42,test_size=0.2)"
   ],
   "outputs": [],
   "metadata": {}
  },
  {
   "cell_type": "code",
   "execution_count": 26,
   "source": [
    "categorical_var = ['model', 'transmission', 'fuelType']\r\n",
    "\r\n",
    "OH_encoder = OneHotEncoder(handle_unknown='ignore', sparse=False)\r\n",
    "OH_cols_train = pd.DataFrame(OH_encoder.fit_transform(X_train[categorical_var]))\r\n",
    "OH_cols_test = pd.DataFrame(OH_encoder.transform(X_test[categorical_var]))\r\n",
    "\r\n",
    "# One-hot encoding removed index; put it back\r\n",
    "OH_cols_train.index = X_train.index\r\n",
    "OH_cols_test.index = X_test.index\r\n",
    "\r\n",
    "# Remove categorical columns (will replace with one-hot encoding)\r\n",
    "num_X_train = X_train.drop(categorical_var, axis=1)\r\n",
    "num_X_test = X_test.drop(categorical_var, axis=1)\r\n",
    "\r\n",
    "# Add one-hot encoded columns to numerical features\r\n",
    "OH_X_train = pd.concat([num_X_train, OH_cols_train], axis=1)\r\n",
    "OH_X_test = pd.concat([num_X_test, OH_cols_test], axis=1)"
   ],
   "outputs": [],
   "metadata": {}
  },
  {
   "cell_type": "code",
   "execution_count": 27,
   "source": [
    "print(\"Shape of training Data - {}\".format(OH_X_train.shape))\r\n",
    "print(\"Shape of test Data - {}\".format(OH_X_test.shape))"
   ],
   "outputs": [
    {
     "output_type": "stream",
     "name": "stdout",
     "text": [
      "Shape of training Data - (5390, 31)\n",
      "Shape of test Data - (1348, 31)\n"
     ]
    }
   ],
   "metadata": {}
  },
  {
   "cell_type": "code",
   "execution_count": 28,
   "source": [
    "minmax = MinMaxScaler(feature_range=[0,1])\r\n",
    "scaled_X_train = minmax.fit_transform(OH_X_train)\r\n",
    "scaled_X_test = minmax.transform(OH_X_test)"
   ],
   "outputs": [],
   "metadata": {}
  },
  {
   "cell_type": "code",
   "execution_count": 29,
   "source": [
    "print(\"Shape of final X_train - {}\".format(scaled_X_train.shape))"
   ],
   "outputs": [
    {
     "output_type": "stream",
     "name": "stdout",
     "text": [
      "Shape of final X_train - (5390, 31)\n"
     ]
    }
   ],
   "metadata": {}
  },
  {
   "cell_type": "markdown",
   "source": [
    "## Defining BaseLine model \n",
    "\n",
    "<p> We will start with the basic Linear Regression model. Inorder to form a baseline that will be used to compare our future evaluations </p>"
   ],
   "metadata": {}
  },
  {
   "cell_type": "code",
   "execution_count": 30,
   "source": [
    "lreg = LinearRegression(n_jobs=-1)\r\n",
    "lreg.fit(scaled_X_train,y_train)\r\n",
    "\r\n",
    "# Use logreg to predict instances from the test set and store it\r\n",
    "y_pred = lreg.predict(scaled_X_test)\r\n",
    "\r\n",
    "rsme = MSE(y_test,y_pred) ** (1/2)\r\n",
    "print(\"RSME of the base model - {}\".format(rsme))\r\n"
   ],
   "outputs": [
    {
     "output_type": "stream",
     "name": "stdout",
     "text": [
      "RSME of the base model - 1768.2842587662751\n"
     ]
    }
   ],
   "metadata": {}
  },
  {
   "cell_type": "markdown",
   "source": [
    "## Trying different Regression models\n",
    "\n",
    "<p>In this approach we are trying to find the model that best fits the data and reduces the RSME score. </p>"
   ],
   "metadata": {}
  },
  {
   "cell_type": "code",
   "execution_count": 31,
   "source": [
    "def get_models():\r\n",
    "    model = dict()\r\n",
    "    model['LR'] = LinearRegression()\r\n",
    "    model['CART'] = DecisionTreeRegressor()\r\n",
    "    model['RF'] = RandomForestRegressor()\r\n",
    "    model['GBM'] = GradientBoostingRegressor()\r\n",
    "    return model"
   ],
   "outputs": [],
   "metadata": {}
  },
  {
   "cell_type": "code",
   "execution_count": 32,
   "source": [
    "def evaluate_model(X,y,model):    \r\n",
    "    scores = cross_val_score(model, X, y, scoring='neg_mean_squared_error', cv=5, n_jobs=-1)    \r\n",
    "    score = (np.mean(scores)*-1)**(1/2)\r\n",
    "    return score"
   ],
   "outputs": [],
   "metadata": {}
  },
  {
   "cell_type": "code",
   "execution_count": 33,
   "source": [
    "models = get_models()\r\n",
    "results = dict()\r\n",
    "for key,value in models.items():\r\n",
    "    results[key] = evaluate_model(scaled_X_train,y_train,value)    \r\n",
    "    print('>%s %.3f' % (key, results[key]))"
   ],
   "outputs": [
    {
     "output_type": "stream",
     "name": "stdout",
     "text": [
      ">LR 1717.371\n",
      ">CART 1600.077\n",
      ">RF 1263.287\n",
      ">GBM 1293.640\n"
     ]
    }
   ],
   "metadata": {}
  },
  {
   "cell_type": "markdown",
   "source": [
    "### Using the best fit Model and Tuning it using HyperParameters\n",
    "From the above analysis we see that RandomForest Regressor gave us the lowest RSME amongst all the ones compared on our training dataset. We will try to do hyperparameter tuning inorder to achieve the best possible results and values that fit our dataset. "
   ],
   "metadata": {}
  },
  {
   "cell_type": "code",
   "execution_count": 34,
   "source": [
    "# Number of trees in random forest\r\n",
    "n_estimators = [int(x) for x in np.linspace(start = 500, stop = 2000, num = 4)]\r\n",
    "# Maximum number of levels in tree\r\n",
    "max_depth = [int(x) for x in np.linspace(1, 10, num = 3)]\r\n",
    "max_depth.append(None)"
   ],
   "outputs": [],
   "metadata": {}
  },
  {
   "cell_type": "code",
   "execution_count": 35,
   "source": [
    "# Create the params grid\r\n",
    "param_grid = {'n_estimators': n_estimators,               \r\n",
    "               'max_depth': max_depth\r\n",
    "             }"
   ],
   "outputs": [],
   "metadata": {}
  },
  {
   "cell_type": "code",
   "execution_count": 36,
   "source": [
    "gm_cv = GridSearchCV(estimator=RandomForestRegressor(),param_grid= param_grid,cv = 5,n_jobs=-1)\r\n",
    "gm_cv.fit(scaled_X_train,y_train)\r\n",
    "print(gm_cv.best_params_)"
   ],
   "outputs": [
    {
     "output_type": "stream",
     "name": "stdout",
     "text": [
      "{'max_depth': 10, 'n_estimators': 500}\n"
     ]
    }
   ],
   "metadata": {}
  },
  {
   "cell_type": "code",
   "execution_count": 41,
   "source": [
    "y_gm_cv_preds = gm_cv.predict(scaled_X_test)\r\n",
    "r2 = gm_cv.score(scaled_X_test,y_test)\r\n",
    "rsme_hyp_gm_cv = MSE(y_test,y_gm_cv_preds)**(1/2)\r\n",
    "print(\"Tuned RandomForest Regressor RMSE: {}\".format(rsme_hyp_gm_cv))\r\n",
    "print(\"Tuned RandomForest Regressor R2: {}\".format(r2))"
   ],
   "outputs": [
    {
     "output_type": "stream",
     "name": "stdout",
     "text": [
      "Tuned RandomForest Regressor RMSE: 1169.4266868717675\n",
      "Tuned RandomForest Regressor R2: 0.9678646919777895\n"
     ]
    }
   ],
   "metadata": {}
  },
  {
   "cell_type": "code",
   "execution_count": null,
   "source": [
    "# Plot of Precited vs Actual for the first 150 observation of Linear Regression model\r\n",
    "import plotly.graph_objects as go\r\n",
    "\r\n",
    "fig = go.Figure()\r\n",
    "fig.add_trace(go.Scatter(x=list(range(len(y_gm_cv_preds[-150:]))), y=y_gm_cv_preds[-150:],\r\n",
    "                         mode='lines',\r\n",
    "                         name='Prediction'))\r\n",
    "fig.add_trace(go.Scatter(x=list(range(len(y_test[-150:]))), y=y_test[-150:],\r\n",
    "                         mode='lines',\r\n",
    "                         name='True value'))\r\n",
    "\r\n",
    "fig.show()"
   ],
   "outputs": [],
   "metadata": {}
  },
  {
   "cell_type": "markdown",
   "source": [
    "## Summary\r\n",
    "<p>We have reduced the RSME dramatically by using hyperparameters and thereby have an improved R2 score.</p> This model will help the Sales team to keep better pricing for the cars of various years , models and fuel type. "
   ],
   "metadata": {}
  }
 ],
 "metadata": {
  "colab": {
   "name": "Welcome to DataCamp Workspaces.ipynb",
   "provenance": []
  },
  "interpreter": {
   "hash": "ba497f245e46cb05b3a0e0d97f033c41eced3dd6d67577311158664bed0781ff"
  },
  "kernelspec": {
   "name": "python3",
   "display_name": "Python 3.7.11 64-bit ('base': conda)"
  },
  "language_info": {
   "codemirror_mode": {
    "name": "ipython",
    "version": 3
   },
   "file_extension": ".py",
   "mimetype": "text/x-python",
   "name": "python",
   "nbconvert_exporter": "python",
   "pygments_lexer": "ipython3",
   "version": "3.7.11"
  }
 },
 "nbformat": 4,
 "nbformat_minor": 4
}