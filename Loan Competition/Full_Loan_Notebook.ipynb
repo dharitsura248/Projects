{
 "cells": [
  {
   "cell_type": "markdown",
   "source": [
    "# Loan Data"
   ],
   "metadata": {}
  },
  {
   "cell_type": "markdown",
   "source": [
    "## Context\n",
    "This dataset ([source](https://www.kaggle.com/itssuru/loan-data)) consists of data from almost 10,000 borrowers that took loans - with some paid back and others still in progress. It was extracted from lendingclub.com which is an organization that connects borrowers with investors. We've included a few suggested questions at the end of this template to help you get started."
   ],
   "metadata": {}
  },
  {
   "cell_type": "code",
   "execution_count": 1,
   "source": [
    "import numpy as np\r\n",
    "import pandas as pd"
   ],
   "outputs": [],
   "metadata": {}
  },
  {
   "cell_type": "markdown",
   "source": [
    "## Loading Data"
   ],
   "metadata": {}
  },
  {
   "cell_type": "code",
   "execution_count": 2,
   "source": [
    "loan_df = pd.read_csv('loan_data.csv')\r\n",
    "variable_explain_df = pd.read_csv('variable_explanation.csv',index_col=0)"
   ],
   "outputs": [],
   "metadata": {}
  },
  {
   "cell_type": "code",
   "execution_count": 3,
   "source": [
    "loan_df.head()"
   ],
   "outputs": [
    {
     "output_type": "execute_result",
     "data": {
      "text/html": [
       "<div>\n",
       "<style scoped>\n",
       "    .dataframe tbody tr th:only-of-type {\n",
       "        vertical-align: middle;\n",
       "    }\n",
       "\n",
       "    .dataframe tbody tr th {\n",
       "        vertical-align: top;\n",
       "    }\n",
       "\n",
       "    .dataframe thead th {\n",
       "        text-align: right;\n",
       "    }\n",
       "</style>\n",
       "<table border=\"1\" class=\"dataframe\">\n",
       "  <thead>\n",
       "    <tr style=\"text-align: right;\">\n",
       "      <th></th>\n",
       "      <th>credit.policy</th>\n",
       "      <th>purpose</th>\n",
       "      <th>int.rate</th>\n",
       "      <th>installment</th>\n",
       "      <th>log.annual.inc</th>\n",
       "      <th>dti</th>\n",
       "      <th>fico</th>\n",
       "      <th>days.with.cr.line</th>\n",
       "      <th>revol.bal</th>\n",
       "      <th>revol.util</th>\n",
       "      <th>inq.last.6mths</th>\n",
       "      <th>delinq.2yrs</th>\n",
       "      <th>pub.rec</th>\n",
       "      <th>not.fully.paid</th>\n",
       "    </tr>\n",
       "  </thead>\n",
       "  <tbody>\n",
       "    <tr>\n",
       "      <th>0</th>\n",
       "      <td>1</td>\n",
       "      <td>debt_consolidation</td>\n",
       "      <td>0.1189</td>\n",
       "      <td>829.10</td>\n",
       "      <td>11.350407</td>\n",
       "      <td>19.48</td>\n",
       "      <td>737</td>\n",
       "      <td>5639.958333</td>\n",
       "      <td>28854</td>\n",
       "      <td>52.1</td>\n",
       "      <td>0</td>\n",
       "      <td>0</td>\n",
       "      <td>0</td>\n",
       "      <td>0</td>\n",
       "    </tr>\n",
       "    <tr>\n",
       "      <th>1</th>\n",
       "      <td>1</td>\n",
       "      <td>credit_card</td>\n",
       "      <td>0.1071</td>\n",
       "      <td>228.22</td>\n",
       "      <td>11.082143</td>\n",
       "      <td>14.29</td>\n",
       "      <td>707</td>\n",
       "      <td>2760.000000</td>\n",
       "      <td>33623</td>\n",
       "      <td>76.7</td>\n",
       "      <td>0</td>\n",
       "      <td>0</td>\n",
       "      <td>0</td>\n",
       "      <td>0</td>\n",
       "    </tr>\n",
       "    <tr>\n",
       "      <th>2</th>\n",
       "      <td>1</td>\n",
       "      <td>debt_consolidation</td>\n",
       "      <td>0.1357</td>\n",
       "      <td>366.86</td>\n",
       "      <td>10.373491</td>\n",
       "      <td>11.63</td>\n",
       "      <td>682</td>\n",
       "      <td>4710.000000</td>\n",
       "      <td>3511</td>\n",
       "      <td>25.6</td>\n",
       "      <td>1</td>\n",
       "      <td>0</td>\n",
       "      <td>0</td>\n",
       "      <td>0</td>\n",
       "    </tr>\n",
       "    <tr>\n",
       "      <th>3</th>\n",
       "      <td>1</td>\n",
       "      <td>debt_consolidation</td>\n",
       "      <td>0.1008</td>\n",
       "      <td>162.34</td>\n",
       "      <td>11.350407</td>\n",
       "      <td>8.10</td>\n",
       "      <td>712</td>\n",
       "      <td>2699.958333</td>\n",
       "      <td>33667</td>\n",
       "      <td>73.2</td>\n",
       "      <td>1</td>\n",
       "      <td>0</td>\n",
       "      <td>0</td>\n",
       "      <td>0</td>\n",
       "    </tr>\n",
       "    <tr>\n",
       "      <th>4</th>\n",
       "      <td>1</td>\n",
       "      <td>credit_card</td>\n",
       "      <td>0.1426</td>\n",
       "      <td>102.92</td>\n",
       "      <td>11.299732</td>\n",
       "      <td>14.97</td>\n",
       "      <td>667</td>\n",
       "      <td>4066.000000</td>\n",
       "      <td>4740</td>\n",
       "      <td>39.5</td>\n",
       "      <td>0</td>\n",
       "      <td>1</td>\n",
       "      <td>0</td>\n",
       "      <td>0</td>\n",
       "    </tr>\n",
       "  </tbody>\n",
       "</table>\n",
       "</div>"
      ],
      "text/plain": [
       "   credit.policy             purpose  int.rate  installment  log.annual.inc  \\\n",
       "0              1  debt_consolidation    0.1189       829.10       11.350407   \n",
       "1              1         credit_card    0.1071       228.22       11.082143   \n",
       "2              1  debt_consolidation    0.1357       366.86       10.373491   \n",
       "3              1  debt_consolidation    0.1008       162.34       11.350407   \n",
       "4              1         credit_card    0.1426       102.92       11.299732   \n",
       "\n",
       "     dti  fico  days.with.cr.line  revol.bal  revol.util  inq.last.6mths  \\\n",
       "0  19.48   737        5639.958333      28854        52.1               0   \n",
       "1  14.29   707        2760.000000      33623        76.7               0   \n",
       "2  11.63   682        4710.000000       3511        25.6               1   \n",
       "3   8.10   712        2699.958333      33667        73.2               1   \n",
       "4  14.97   667        4066.000000       4740        39.5               0   \n",
       "\n",
       "   delinq.2yrs  pub.rec  not.fully.paid  \n",
       "0            0        0               0  \n",
       "1            0        0               0  \n",
       "2            0        0               0  \n",
       "3            0        0               0  \n",
       "4            1        0               0  "
      ]
     },
     "metadata": {},
     "execution_count": 3
    }
   ],
   "metadata": {}
  },
  {
   "cell_type": "code",
   "execution_count": 4,
   "source": [
    "variable_explain_df"
   ],
   "outputs": [
    {
     "output_type": "execute_result",
     "data": {
      "text/html": [
       "<div>\n",
       "<style scoped>\n",
       "    .dataframe tbody tr th:only-of-type {\n",
       "        vertical-align: middle;\n",
       "    }\n",
       "\n",
       "    .dataframe tbody tr th {\n",
       "        vertical-align: top;\n",
       "    }\n",
       "\n",
       "    .dataframe thead th {\n",
       "        text-align: right;\n",
       "    }\n",
       "</style>\n",
       "<table border=\"1\" class=\"dataframe\">\n",
       "  <thead>\n",
       "    <tr style=\"text-align: right;\">\n",
       "      <th></th>\n",
       "      <th>Explanation</th>\n",
       "    </tr>\n",
       "    <tr>\n",
       "      <th>Variable</th>\n",
       "      <th></th>\n",
       "    </tr>\n",
       "  </thead>\n",
       "  <tbody>\n",
       "    <tr>\n",
       "      <th>credit_policy</th>\n",
       "      <td>1 if the customer meets the credit underwritin...</td>\n",
       "    </tr>\n",
       "    <tr>\n",
       "      <th>purpose</th>\n",
       "      <td>The purpose of the loan.</td>\n",
       "    </tr>\n",
       "    <tr>\n",
       "      <th>int_rate</th>\n",
       "      <td>The interest rate of the loan (more risky borr...</td>\n",
       "    </tr>\n",
       "    <tr>\n",
       "      <th>installment</th>\n",
       "      <td>The monthly installments owed by the borrower ...</td>\n",
       "    </tr>\n",
       "    <tr>\n",
       "      <th>log_annual_inc</th>\n",
       "      <td>The natural log of the self-reported annual in...</td>\n",
       "    </tr>\n",
       "    <tr>\n",
       "      <th>dti</th>\n",
       "      <td>The debt-to-income ratio of the borrower (amou...</td>\n",
       "    </tr>\n",
       "    <tr>\n",
       "      <th>fico</th>\n",
       "      <td>The FICO credit score of the borrower.</td>\n",
       "    </tr>\n",
       "    <tr>\n",
       "      <th>days_with_cr_line</th>\n",
       "      <td>The number of days the borrower has had a cred...</td>\n",
       "    </tr>\n",
       "    <tr>\n",
       "      <th>revol_bal</th>\n",
       "      <td>The borrower's revolving balance (amount unpai...</td>\n",
       "    </tr>\n",
       "    <tr>\n",
       "      <th>revol_util</th>\n",
       "      <td>The borrower's revolving line utilization rate...</td>\n",
       "    </tr>\n",
       "    <tr>\n",
       "      <th>inq_last_6mths</th>\n",
       "      <td>The borrower's number of inquiries by creditor...</td>\n",
       "    </tr>\n",
       "    <tr>\n",
       "      <th>delinq_2yrs</th>\n",
       "      <td>The number of times the borrower had been 30+ ...</td>\n",
       "    </tr>\n",
       "    <tr>\n",
       "      <th>pub_rec</th>\n",
       "      <td>The borrower's number of derogatory public rec...</td>\n",
       "    </tr>\n",
       "    <tr>\n",
       "      <th>not_fully_paid</th>\n",
       "      <td>1 if the loan is not fully paid; 0 otherwise.</td>\n",
       "    </tr>\n",
       "  </tbody>\n",
       "</table>\n",
       "</div>"
      ],
      "text/plain": [
       "                                                         Explanation\n",
       "Variable                                                            \n",
       "credit_policy      1 if the customer meets the credit underwritin...\n",
       "purpose                                     The purpose of the loan.\n",
       "int_rate           The interest rate of the loan (more risky borr...\n",
       "installment        The monthly installments owed by the borrower ...\n",
       "log_annual_inc     The natural log of the self-reported annual in...\n",
       "dti                The debt-to-income ratio of the borrower (amou...\n",
       "fico                          The FICO credit score of the borrower.\n",
       "days_with_cr_line  The number of days the borrower has had a cred...\n",
       "revol_bal          The borrower's revolving balance (amount unpai...\n",
       "revol_util         The borrower's revolving line utilization rate...\n",
       "inq_last_6mths     The borrower's number of inquiries by creditor...\n",
       "delinq_2yrs        The number of times the borrower had been 30+ ...\n",
       "pub_rec            The borrower's number of derogatory public rec...\n",
       "not_fully_paid         1 if the loan is not fully paid; 0 otherwise."
      ]
     },
     "metadata": {},
     "execution_count": 4
    }
   ],
   "metadata": {}
  },
  {
   "cell_type": "markdown",
   "source": [
    "### Getting to know the loan file data"
   ],
   "metadata": {}
  },
  {
   "cell_type": "code",
   "execution_count": 5,
   "source": [
    "loan_df.info()"
   ],
   "outputs": [
    {
     "output_type": "stream",
     "name": "stdout",
     "text": [
      "<class 'pandas.core.frame.DataFrame'>\n",
      "RangeIndex: 9578 entries, 0 to 9577\n",
      "Data columns (total 14 columns):\n",
      " #   Column             Non-Null Count  Dtype  \n",
      "---  ------             --------------  -----  \n",
      " 0   credit.policy      9578 non-null   int64  \n",
      " 1   purpose            9578 non-null   object \n",
      " 2   int.rate           9578 non-null   float64\n",
      " 3   installment        9578 non-null   float64\n",
      " 4   log.annual.inc     9578 non-null   float64\n",
      " 5   dti                9578 non-null   float64\n",
      " 6   fico               9578 non-null   int64  \n",
      " 7   days.with.cr.line  9578 non-null   float64\n",
      " 8   revol.bal          9578 non-null   int64  \n",
      " 9   revol.util         9578 non-null   float64\n",
      " 10  inq.last.6mths     9578 non-null   int64  \n",
      " 11  delinq.2yrs        9578 non-null   int64  \n",
      " 12  pub.rec            9578 non-null   int64  \n",
      " 13  not.fully.paid     9578 non-null   int64  \n",
      "dtypes: float64(6), int64(7), object(1)\n",
      "memory usage: 1.0+ MB\n"
     ]
    }
   ],
   "metadata": {}
  },
  {
   "cell_type": "code",
   "execution_count": 6,
   "source": [
    "loan_df.describe()"
   ],
   "outputs": [
    {
     "output_type": "execute_result",
     "data": {
      "text/html": [
       "<div>\n",
       "<style scoped>\n",
       "    .dataframe tbody tr th:only-of-type {\n",
       "        vertical-align: middle;\n",
       "    }\n",
       "\n",
       "    .dataframe tbody tr th {\n",
       "        vertical-align: top;\n",
       "    }\n",
       "\n",
       "    .dataframe thead th {\n",
       "        text-align: right;\n",
       "    }\n",
       "</style>\n",
       "<table border=\"1\" class=\"dataframe\">\n",
       "  <thead>\n",
       "    <tr style=\"text-align: right;\">\n",
       "      <th></th>\n",
       "      <th>credit.policy</th>\n",
       "      <th>int.rate</th>\n",
       "      <th>installment</th>\n",
       "      <th>log.annual.inc</th>\n",
       "      <th>dti</th>\n",
       "      <th>fico</th>\n",
       "      <th>days.with.cr.line</th>\n",
       "      <th>revol.bal</th>\n",
       "      <th>revol.util</th>\n",
       "      <th>inq.last.6mths</th>\n",
       "      <th>delinq.2yrs</th>\n",
       "      <th>pub.rec</th>\n",
       "      <th>not.fully.paid</th>\n",
       "    </tr>\n",
       "  </thead>\n",
       "  <tbody>\n",
       "    <tr>\n",
       "      <th>count</th>\n",
       "      <td>9578.000000</td>\n",
       "      <td>9578.000000</td>\n",
       "      <td>9578.000000</td>\n",
       "      <td>9578.000000</td>\n",
       "      <td>9578.000000</td>\n",
       "      <td>9578.000000</td>\n",
       "      <td>9578.000000</td>\n",
       "      <td>9.578000e+03</td>\n",
       "      <td>9578.000000</td>\n",
       "      <td>9578.000000</td>\n",
       "      <td>9578.000000</td>\n",
       "      <td>9578.000000</td>\n",
       "      <td>9578.000000</td>\n",
       "    </tr>\n",
       "    <tr>\n",
       "      <th>mean</th>\n",
       "      <td>0.804970</td>\n",
       "      <td>0.122640</td>\n",
       "      <td>319.089413</td>\n",
       "      <td>10.932117</td>\n",
       "      <td>12.606679</td>\n",
       "      <td>710.846314</td>\n",
       "      <td>4560.767197</td>\n",
       "      <td>1.691396e+04</td>\n",
       "      <td>46.799236</td>\n",
       "      <td>1.577469</td>\n",
       "      <td>0.163708</td>\n",
       "      <td>0.062122</td>\n",
       "      <td>0.160054</td>\n",
       "    </tr>\n",
       "    <tr>\n",
       "      <th>std</th>\n",
       "      <td>0.396245</td>\n",
       "      <td>0.026847</td>\n",
       "      <td>207.071301</td>\n",
       "      <td>0.614813</td>\n",
       "      <td>6.883970</td>\n",
       "      <td>37.970537</td>\n",
       "      <td>2496.930377</td>\n",
       "      <td>3.375619e+04</td>\n",
       "      <td>29.014417</td>\n",
       "      <td>2.200245</td>\n",
       "      <td>0.546215</td>\n",
       "      <td>0.262126</td>\n",
       "      <td>0.366676</td>\n",
       "    </tr>\n",
       "    <tr>\n",
       "      <th>min</th>\n",
       "      <td>0.000000</td>\n",
       "      <td>0.060000</td>\n",
       "      <td>15.670000</td>\n",
       "      <td>7.547502</td>\n",
       "      <td>0.000000</td>\n",
       "      <td>612.000000</td>\n",
       "      <td>178.958333</td>\n",
       "      <td>0.000000e+00</td>\n",
       "      <td>0.000000</td>\n",
       "      <td>0.000000</td>\n",
       "      <td>0.000000</td>\n",
       "      <td>0.000000</td>\n",
       "      <td>0.000000</td>\n",
       "    </tr>\n",
       "    <tr>\n",
       "      <th>25%</th>\n",
       "      <td>1.000000</td>\n",
       "      <td>0.103900</td>\n",
       "      <td>163.770000</td>\n",
       "      <td>10.558414</td>\n",
       "      <td>7.212500</td>\n",
       "      <td>682.000000</td>\n",
       "      <td>2820.000000</td>\n",
       "      <td>3.187000e+03</td>\n",
       "      <td>22.600000</td>\n",
       "      <td>0.000000</td>\n",
       "      <td>0.000000</td>\n",
       "      <td>0.000000</td>\n",
       "      <td>0.000000</td>\n",
       "    </tr>\n",
       "    <tr>\n",
       "      <th>50%</th>\n",
       "      <td>1.000000</td>\n",
       "      <td>0.122100</td>\n",
       "      <td>268.950000</td>\n",
       "      <td>10.928884</td>\n",
       "      <td>12.665000</td>\n",
       "      <td>707.000000</td>\n",
       "      <td>4139.958333</td>\n",
       "      <td>8.596000e+03</td>\n",
       "      <td>46.300000</td>\n",
       "      <td>1.000000</td>\n",
       "      <td>0.000000</td>\n",
       "      <td>0.000000</td>\n",
       "      <td>0.000000</td>\n",
       "    </tr>\n",
       "    <tr>\n",
       "      <th>75%</th>\n",
       "      <td>1.000000</td>\n",
       "      <td>0.140700</td>\n",
       "      <td>432.762500</td>\n",
       "      <td>11.291293</td>\n",
       "      <td>17.950000</td>\n",
       "      <td>737.000000</td>\n",
       "      <td>5730.000000</td>\n",
       "      <td>1.824950e+04</td>\n",
       "      <td>70.900000</td>\n",
       "      <td>2.000000</td>\n",
       "      <td>0.000000</td>\n",
       "      <td>0.000000</td>\n",
       "      <td>0.000000</td>\n",
       "    </tr>\n",
       "    <tr>\n",
       "      <th>max</th>\n",
       "      <td>1.000000</td>\n",
       "      <td>0.216400</td>\n",
       "      <td>940.140000</td>\n",
       "      <td>14.528354</td>\n",
       "      <td>29.960000</td>\n",
       "      <td>827.000000</td>\n",
       "      <td>17639.958330</td>\n",
       "      <td>1.207359e+06</td>\n",
       "      <td>119.000000</td>\n",
       "      <td>33.000000</td>\n",
       "      <td>13.000000</td>\n",
       "      <td>5.000000</td>\n",
       "      <td>1.000000</td>\n",
       "    </tr>\n",
       "  </tbody>\n",
       "</table>\n",
       "</div>"
      ],
      "text/plain": [
       "       credit.policy     int.rate  installment  log.annual.inc          dti  \\\n",
       "count    9578.000000  9578.000000  9578.000000     9578.000000  9578.000000   \n",
       "mean        0.804970     0.122640   319.089413       10.932117    12.606679   \n",
       "std         0.396245     0.026847   207.071301        0.614813     6.883970   \n",
       "min         0.000000     0.060000    15.670000        7.547502     0.000000   \n",
       "25%         1.000000     0.103900   163.770000       10.558414     7.212500   \n",
       "50%         1.000000     0.122100   268.950000       10.928884    12.665000   \n",
       "75%         1.000000     0.140700   432.762500       11.291293    17.950000   \n",
       "max         1.000000     0.216400   940.140000       14.528354    29.960000   \n",
       "\n",
       "              fico  days.with.cr.line     revol.bal   revol.util  \\\n",
       "count  9578.000000        9578.000000  9.578000e+03  9578.000000   \n",
       "mean    710.846314        4560.767197  1.691396e+04    46.799236   \n",
       "std      37.970537        2496.930377  3.375619e+04    29.014417   \n",
       "min     612.000000         178.958333  0.000000e+00     0.000000   \n",
       "25%     682.000000        2820.000000  3.187000e+03    22.600000   \n",
       "50%     707.000000        4139.958333  8.596000e+03    46.300000   \n",
       "75%     737.000000        5730.000000  1.824950e+04    70.900000   \n",
       "max     827.000000       17639.958330  1.207359e+06   119.000000   \n",
       "\n",
       "       inq.last.6mths  delinq.2yrs      pub.rec  not.fully.paid  \n",
       "count     9578.000000  9578.000000  9578.000000     9578.000000  \n",
       "mean         1.577469     0.163708     0.062122        0.160054  \n",
       "std          2.200245     0.546215     0.262126        0.366676  \n",
       "min          0.000000     0.000000     0.000000        0.000000  \n",
       "25%          0.000000     0.000000     0.000000        0.000000  \n",
       "50%          1.000000     0.000000     0.000000        0.000000  \n",
       "75%          2.000000     0.000000     0.000000        0.000000  \n",
       "max         33.000000    13.000000     5.000000        1.000000  "
      ]
     },
     "metadata": {},
     "execution_count": 6
    }
   ],
   "metadata": {}
  },
  {
   "cell_type": "markdown",
   "source": [
    "### Finding null value counts"
   ],
   "metadata": {}
  },
  {
   "cell_type": "code",
   "execution_count": 7,
   "source": [
    "loan_df.isnull().value_counts()"
   ],
   "outputs": [
    {
     "output_type": "execute_result",
     "data": {
      "text/plain": [
       "credit.policy  purpose  int.rate  installment  log.annual.inc  dti    fico   days.with.cr.line  revol.bal  revol.util  inq.last.6mths  delinq.2yrs  pub.rec  not.fully.paid\n",
       "False          False    False     False        False           False  False  False              False      False       False           False        False    False             9578\n",
       "dtype: int64"
      ]
     },
     "metadata": {},
     "execution_count": 7
    }
   ],
   "metadata": {}
  },
  {
   "cell_type": "markdown",
   "source": [
    "No null values detected\n",
    "\n",
    "Replacing '.' with '_' in the column names"
   ],
   "metadata": {}
  },
  {
   "cell_type": "code",
   "execution_count": 8,
   "source": [
    "loan_df.columns = [c.replace(\".\", \"_\") for c in loan_df.columns]\r\n",
    "loan_df.head()"
   ],
   "outputs": [
    {
     "output_type": "execute_result",
     "data": {
      "text/html": [
       "<div>\n",
       "<style scoped>\n",
       "    .dataframe tbody tr th:only-of-type {\n",
       "        vertical-align: middle;\n",
       "    }\n",
       "\n",
       "    .dataframe tbody tr th {\n",
       "        vertical-align: top;\n",
       "    }\n",
       "\n",
       "    .dataframe thead th {\n",
       "        text-align: right;\n",
       "    }\n",
       "</style>\n",
       "<table border=\"1\" class=\"dataframe\">\n",
       "  <thead>\n",
       "    <tr style=\"text-align: right;\">\n",
       "      <th></th>\n",
       "      <th>credit_policy</th>\n",
       "      <th>purpose</th>\n",
       "      <th>int_rate</th>\n",
       "      <th>installment</th>\n",
       "      <th>log_annual_inc</th>\n",
       "      <th>dti</th>\n",
       "      <th>fico</th>\n",
       "      <th>days_with_cr_line</th>\n",
       "      <th>revol_bal</th>\n",
       "      <th>revol_util</th>\n",
       "      <th>inq_last_6mths</th>\n",
       "      <th>delinq_2yrs</th>\n",
       "      <th>pub_rec</th>\n",
       "      <th>not_fully_paid</th>\n",
       "    </tr>\n",
       "  </thead>\n",
       "  <tbody>\n",
       "    <tr>\n",
       "      <th>0</th>\n",
       "      <td>1</td>\n",
       "      <td>debt_consolidation</td>\n",
       "      <td>0.1189</td>\n",
       "      <td>829.10</td>\n",
       "      <td>11.350407</td>\n",
       "      <td>19.48</td>\n",
       "      <td>737</td>\n",
       "      <td>5639.958333</td>\n",
       "      <td>28854</td>\n",
       "      <td>52.1</td>\n",
       "      <td>0</td>\n",
       "      <td>0</td>\n",
       "      <td>0</td>\n",
       "      <td>0</td>\n",
       "    </tr>\n",
       "    <tr>\n",
       "      <th>1</th>\n",
       "      <td>1</td>\n",
       "      <td>credit_card</td>\n",
       "      <td>0.1071</td>\n",
       "      <td>228.22</td>\n",
       "      <td>11.082143</td>\n",
       "      <td>14.29</td>\n",
       "      <td>707</td>\n",
       "      <td>2760.000000</td>\n",
       "      <td>33623</td>\n",
       "      <td>76.7</td>\n",
       "      <td>0</td>\n",
       "      <td>0</td>\n",
       "      <td>0</td>\n",
       "      <td>0</td>\n",
       "    </tr>\n",
       "    <tr>\n",
       "      <th>2</th>\n",
       "      <td>1</td>\n",
       "      <td>debt_consolidation</td>\n",
       "      <td>0.1357</td>\n",
       "      <td>366.86</td>\n",
       "      <td>10.373491</td>\n",
       "      <td>11.63</td>\n",
       "      <td>682</td>\n",
       "      <td>4710.000000</td>\n",
       "      <td>3511</td>\n",
       "      <td>25.6</td>\n",
       "      <td>1</td>\n",
       "      <td>0</td>\n",
       "      <td>0</td>\n",
       "      <td>0</td>\n",
       "    </tr>\n",
       "    <tr>\n",
       "      <th>3</th>\n",
       "      <td>1</td>\n",
       "      <td>debt_consolidation</td>\n",
       "      <td>0.1008</td>\n",
       "      <td>162.34</td>\n",
       "      <td>11.350407</td>\n",
       "      <td>8.10</td>\n",
       "      <td>712</td>\n",
       "      <td>2699.958333</td>\n",
       "      <td>33667</td>\n",
       "      <td>73.2</td>\n",
       "      <td>1</td>\n",
       "      <td>0</td>\n",
       "      <td>0</td>\n",
       "      <td>0</td>\n",
       "    </tr>\n",
       "    <tr>\n",
       "      <th>4</th>\n",
       "      <td>1</td>\n",
       "      <td>credit_card</td>\n",
       "      <td>0.1426</td>\n",
       "      <td>102.92</td>\n",
       "      <td>11.299732</td>\n",
       "      <td>14.97</td>\n",
       "      <td>667</td>\n",
       "      <td>4066.000000</td>\n",
       "      <td>4740</td>\n",
       "      <td>39.5</td>\n",
       "      <td>0</td>\n",
       "      <td>1</td>\n",
       "      <td>0</td>\n",
       "      <td>0</td>\n",
       "    </tr>\n",
       "  </tbody>\n",
       "</table>\n",
       "</div>"
      ],
      "text/plain": [
       "   credit_policy             purpose  int_rate  installment  log_annual_inc  \\\n",
       "0              1  debt_consolidation    0.1189       829.10       11.350407   \n",
       "1              1         credit_card    0.1071       228.22       11.082143   \n",
       "2              1  debt_consolidation    0.1357       366.86       10.373491   \n",
       "3              1  debt_consolidation    0.1008       162.34       11.350407   \n",
       "4              1         credit_card    0.1426       102.92       11.299732   \n",
       "\n",
       "     dti  fico  days_with_cr_line  revol_bal  revol_util  inq_last_6mths  \\\n",
       "0  19.48   737        5639.958333      28854        52.1               0   \n",
       "1  14.29   707        2760.000000      33623        76.7               0   \n",
       "2  11.63   682        4710.000000       3511        25.6               1   \n",
       "3   8.10   712        2699.958333      33667        73.2               1   \n",
       "4  14.97   667        4066.000000       4740        39.5               0   \n",
       "\n",
       "   delinq_2yrs  pub_rec  not_fully_paid  \n",
       "0            0        0               0  \n",
       "1            0        0               0  \n",
       "2            0        0               0  \n",
       "3            0        0               0  \n",
       "4            1        0               0  "
      ]
     },
     "metadata": {},
     "execution_count": 8
    }
   ],
   "metadata": {}
  },
  {
   "cell_type": "markdown",
   "source": [
    "## Understanding your variables"
   ],
   "metadata": {}
  },
  {
   "cell_type": "code",
   "execution_count": 9,
   "source": [
    "variable_explain_df.head()"
   ],
   "outputs": [
    {
     "output_type": "execute_result",
     "data": {
      "text/html": [
       "<div>\n",
       "<style scoped>\n",
       "    .dataframe tbody tr th:only-of-type {\n",
       "        vertical-align: middle;\n",
       "    }\n",
       "\n",
       "    .dataframe tbody tr th {\n",
       "        vertical-align: top;\n",
       "    }\n",
       "\n",
       "    .dataframe thead th {\n",
       "        text-align: right;\n",
       "    }\n",
       "</style>\n",
       "<table border=\"1\" class=\"dataframe\">\n",
       "  <thead>\n",
       "    <tr style=\"text-align: right;\">\n",
       "      <th></th>\n",
       "      <th>Explanation</th>\n",
       "    </tr>\n",
       "    <tr>\n",
       "      <th>Variable</th>\n",
       "      <th></th>\n",
       "    </tr>\n",
       "  </thead>\n",
       "  <tbody>\n",
       "    <tr>\n",
       "      <th>credit_policy</th>\n",
       "      <td>1 if the customer meets the credit underwritin...</td>\n",
       "    </tr>\n",
       "    <tr>\n",
       "      <th>purpose</th>\n",
       "      <td>The purpose of the loan.</td>\n",
       "    </tr>\n",
       "    <tr>\n",
       "      <th>int_rate</th>\n",
       "      <td>The interest rate of the loan (more risky borr...</td>\n",
       "    </tr>\n",
       "    <tr>\n",
       "      <th>installment</th>\n",
       "      <td>The monthly installments owed by the borrower ...</td>\n",
       "    </tr>\n",
       "    <tr>\n",
       "      <th>log_annual_inc</th>\n",
       "      <td>The natural log of the self-reported annual in...</td>\n",
       "    </tr>\n",
       "  </tbody>\n",
       "</table>\n",
       "</div>"
      ],
      "text/plain": [
       "                                                      Explanation\n",
       "Variable                                                         \n",
       "credit_policy   1 if the customer meets the credit underwritin...\n",
       "purpose                                  The purpose of the loan.\n",
       "int_rate        The interest rate of the loan (more risky borr...\n",
       "installment     The monthly installments owed by the borrower ...\n",
       "log_annual_inc  The natural log of the self-reported annual in..."
      ]
     },
     "metadata": {},
     "execution_count": 9
    }
   ],
   "metadata": {}
  },
  {
   "cell_type": "code",
   "execution_count": 10,
   "source": [
    "variables = pd.DataFrame(columns=['Variable','Number of unique values','Values'])\r\n",
    "\r\n",
    "for i, value in enumerate(loan_df.columns):\r\n",
    "    variables.loc[i] = [value, loan_df[value].nunique(), loan_df[value].unique().tolist()]\r\n",
    "\r\n",
    "variables =  variables.set_index('Variable').join(variable_explain_df)\r\n",
    "variables"
   ],
   "outputs": [
    {
     "output_type": "execute_result",
     "data": {
      "text/html": [
       "<div>\n",
       "<style scoped>\n",
       "    .dataframe tbody tr th:only-of-type {\n",
       "        vertical-align: middle;\n",
       "    }\n",
       "\n",
       "    .dataframe tbody tr th {\n",
       "        vertical-align: top;\n",
       "    }\n",
       "\n",
       "    .dataframe thead th {\n",
       "        text-align: right;\n",
       "    }\n",
       "</style>\n",
       "<table border=\"1\" class=\"dataframe\">\n",
       "  <thead>\n",
       "    <tr style=\"text-align: right;\">\n",
       "      <th></th>\n",
       "      <th>Number of unique values</th>\n",
       "      <th>Values</th>\n",
       "      <th>Explanation</th>\n",
       "    </tr>\n",
       "    <tr>\n",
       "      <th>Variable</th>\n",
       "      <th></th>\n",
       "      <th></th>\n",
       "      <th></th>\n",
       "    </tr>\n",
       "  </thead>\n",
       "  <tbody>\n",
       "    <tr>\n",
       "      <th>credit_policy</th>\n",
       "      <td>2</td>\n",
       "      <td>[1, 0]</td>\n",
       "      <td>1 if the customer meets the credit underwritin...</td>\n",
       "    </tr>\n",
       "    <tr>\n",
       "      <th>purpose</th>\n",
       "      <td>7</td>\n",
       "      <td>[debt_consolidation, credit_card, all_other, h...</td>\n",
       "      <td>The purpose of the loan.</td>\n",
       "    </tr>\n",
       "    <tr>\n",
       "      <th>int_rate</th>\n",
       "      <td>249</td>\n",
       "      <td>[0.1189, 0.1071, 0.1357, 0.1008, 0.1426, 0.078...</td>\n",
       "      <td>The interest rate of the loan (more risky borr...</td>\n",
       "    </tr>\n",
       "    <tr>\n",
       "      <th>installment</th>\n",
       "      <td>4788</td>\n",
       "      <td>[829.1, 228.22, 366.86, 162.34, 102.92, 125.13...</td>\n",
       "      <td>The monthly installments owed by the borrower ...</td>\n",
       "    </tr>\n",
       "    <tr>\n",
       "      <th>log_annual_inc</th>\n",
       "      <td>1987</td>\n",
       "      <td>[11.35040654, 11.08214255, 10.37349118, 11.299...</td>\n",
       "      <td>The natural log of the self-reported annual in...</td>\n",
       "    </tr>\n",
       "    <tr>\n",
       "      <th>dti</th>\n",
       "      <td>2529</td>\n",
       "      <td>[19.48, 14.29, 11.63, 8.1, 14.97, 16.98, 4.0, ...</td>\n",
       "      <td>The debt-to-income ratio of the borrower (amou...</td>\n",
       "    </tr>\n",
       "    <tr>\n",
       "      <th>fico</th>\n",
       "      <td>44</td>\n",
       "      <td>[737, 707, 682, 712, 667, 727, 722, 677, 662, ...</td>\n",
       "      <td>The FICO credit score of the borrower.</td>\n",
       "    </tr>\n",
       "    <tr>\n",
       "      <th>days_with_cr_line</th>\n",
       "      <td>2687</td>\n",
       "      <td>[5639.958333, 2760.0, 4710.0, 2699.958333, 406...</td>\n",
       "      <td>The number of days the borrower has had a cred...</td>\n",
       "    </tr>\n",
       "    <tr>\n",
       "      <th>revol_bal</th>\n",
       "      <td>7869</td>\n",
       "      <td>[28854, 33623, 3511, 33667, 4740, 50807, 3839,...</td>\n",
       "      <td>The borrower's revolving balance (amount unpai...</td>\n",
       "    </tr>\n",
       "    <tr>\n",
       "      <th>revol_util</th>\n",
       "      <td>1035</td>\n",
       "      <td>[52.1, 76.7, 25.6, 73.2, 39.5, 51.0, 76.8, 68....</td>\n",
       "      <td>The borrower's revolving line utilization rate...</td>\n",
       "    </tr>\n",
       "    <tr>\n",
       "      <th>inq_last_6mths</th>\n",
       "      <td>28</td>\n",
       "      <td>[0, 1, 2, 3, 4, 5, 6, 8, 7, 33, 9, 18, 14, 15,...</td>\n",
       "      <td>The borrower's number of inquiries by creditor...</td>\n",
       "    </tr>\n",
       "    <tr>\n",
       "      <th>delinq_2yrs</th>\n",
       "      <td>11</td>\n",
       "      <td>[0, 1, 2, 4, 3, 5, 6, 13, 7, 8, 11]</td>\n",
       "      <td>The number of times the borrower had been 30+ ...</td>\n",
       "    </tr>\n",
       "    <tr>\n",
       "      <th>pub_rec</th>\n",
       "      <td>6</td>\n",
       "      <td>[0, 1, 2, 3, 4, 5]</td>\n",
       "      <td>The borrower's number of derogatory public rec...</td>\n",
       "    </tr>\n",
       "    <tr>\n",
       "      <th>not_fully_paid</th>\n",
       "      <td>2</td>\n",
       "      <td>[0, 1]</td>\n",
       "      <td>1 if the loan is not fully paid; 0 otherwise.</td>\n",
       "    </tr>\n",
       "  </tbody>\n",
       "</table>\n",
       "</div>"
      ],
      "text/plain": [
       "                  Number of unique values  \\\n",
       "Variable                                    \n",
       "credit_policy                           2   \n",
       "purpose                                 7   \n",
       "int_rate                              249   \n",
       "installment                          4788   \n",
       "log_annual_inc                       1987   \n",
       "dti                                  2529   \n",
       "fico                                   44   \n",
       "days_with_cr_line                    2687   \n",
       "revol_bal                            7869   \n",
       "revol_util                           1035   \n",
       "inq_last_6mths                         28   \n",
       "delinq_2yrs                            11   \n",
       "pub_rec                                 6   \n",
       "not_fully_paid                          2   \n",
       "\n",
       "                                                              Values  \\\n",
       "Variable                                                               \n",
       "credit_policy                                                 [1, 0]   \n",
       "purpose            [debt_consolidation, credit_card, all_other, h...   \n",
       "int_rate           [0.1189, 0.1071, 0.1357, 0.1008, 0.1426, 0.078...   \n",
       "installment        [829.1, 228.22, 366.86, 162.34, 102.92, 125.13...   \n",
       "log_annual_inc     [11.35040654, 11.08214255, 10.37349118, 11.299...   \n",
       "dti                [19.48, 14.29, 11.63, 8.1, 14.97, 16.98, 4.0, ...   \n",
       "fico               [737, 707, 682, 712, 667, 727, 722, 677, 662, ...   \n",
       "days_with_cr_line  [5639.958333, 2760.0, 4710.0, 2699.958333, 406...   \n",
       "revol_bal          [28854, 33623, 3511, 33667, 4740, 50807, 3839,...   \n",
       "revol_util         [52.1, 76.7, 25.6, 73.2, 39.5, 51.0, 76.8, 68....   \n",
       "inq_last_6mths     [0, 1, 2, 3, 4, 5, 6, 8, 7, 33, 9, 18, 14, 15,...   \n",
       "delinq_2yrs                      [0, 1, 2, 4, 3, 5, 6, 13, 7, 8, 11]   \n",
       "pub_rec                                           [0, 1, 2, 3, 4, 5]   \n",
       "not_fully_paid                                                [0, 1]   \n",
       "\n",
       "                                                         Explanation  \n",
       "Variable                                                              \n",
       "credit_policy      1 if the customer meets the credit underwritin...  \n",
       "purpose                                     The purpose of the loan.  \n",
       "int_rate           The interest rate of the loan (more risky borr...  \n",
       "installment        The monthly installments owed by the borrower ...  \n",
       "log_annual_inc     The natural log of the self-reported annual in...  \n",
       "dti                The debt-to-income ratio of the borrower (amou...  \n",
       "fico                          The FICO credit score of the borrower.  \n",
       "days_with_cr_line  The number of days the borrower has had a cred...  \n",
       "revol_bal          The borrower's revolving balance (amount unpai...  \n",
       "revol_util         The borrower's revolving line utilization rate...  \n",
       "inq_last_6mths     The borrower's number of inquiries by creditor...  \n",
       "delinq_2yrs        The number of times the borrower had been 30+ ...  \n",
       "pub_rec            The borrower's number of derogatory public rec...  \n",
       "not_fully_paid         1 if the loan is not fully paid; 0 otherwise.  "
      ]
     },
     "metadata": {},
     "execution_count": 10
    }
   ],
   "metadata": {}
  },
  {
   "cell_type": "markdown",
   "source": [
    "## EDA with Visuals"
   ],
   "metadata": {
    "tags": []
   }
  },
  {
   "cell_type": "code",
   "execution_count": 11,
   "source": [
    "import matplotlib.pyplot as plt\r\n",
    "import seaborn as sns"
   ],
   "outputs": [],
   "metadata": {}
  },
  {
   "cell_type": "markdown",
   "source": [
    "### Finding Majority of Customer Population Fico Scores\n",
    "Majority of the customers lie between 670 & 710 fico scores"
   ],
   "metadata": {}
  },
  {
   "cell_type": "code",
   "execution_count": 12,
   "source": [
    "#Find fico scores and purpose\r\n",
    "sns.histplot(x='fico',data= loan_df, kde=True,bins = 20)\r\n",
    "plt.xlabel('Fico scores')\r\n",
    "plt.ylabel('# of Customers')\r\n",
    "plt.title('Fico Scores of Customers')\r\n",
    "plt.show()"
   ],
   "outputs": [
    {
     "output_type": "display_data",
     "data": {
      "image/png": "[encoded data removed]",
      "text/plain": [
       "<Figure size 432x288 with 1 Axes>"
      ]
     },
     "metadata": {
      "needs_background": "light"
     }
    }
   ],
   "metadata": {}
  },
  {
   "cell_type": "markdown",
   "source": [
    "Majority of the customers lie between 670 & 710 fico scores"
   ],
   "metadata": {}
  },
  {
   "cell_type": "markdown",
   "source": [
    "### Find the prime reason for getting the loan\n",
    "\n",
    "From the below graph it is evident that the debit consoliation is the main reason and it is mainly with customers having Fico score less than 710"
   ],
   "metadata": {}
  },
  {
   "cell_type": "code",
   "execution_count": 13,
   "source": [
    "fig=plt.gcf()\r\n",
    "fig.set_size_inches(15,8)\r\n",
    "sns.countplot(x='purpose',data=loan_df)\r\n",
    "plt.xlabel(\"Loan Purpose\")\r\n",
    "plt.xticks(rotation=45)\r\n",
    "plt.show()"
   ],
   "outputs": [
    {
     "output_type": "display_data",
     "data": {
      "image/png": "[encoded data removed]",
      "text/plain": [
       "<Figure size 1080x576 with 1 Axes>"
      ]
     },
     "metadata": {
      "needs_background": "light"
     }
    }
   ],
   "metadata": {}
  },
  {
   "cell_type": "code",
   "execution_count": 14,
   "source": [
    "counts_pur_fico = loan_df.groupby(['fico','purpose'],as_index=False)['int_rate'].count().reset_index()\r\n",
    "counts_pur_fico.rename(columns = {'int_rate':'Counts'}, inplace = True)\r\n",
    "counts_pur_fico.drop(columns='index',inplace=True)"
   ],
   "outputs": [],
   "metadata": {}
  },
  {
   "cell_type": "markdown",
   "source": [
    "#### Plot top 5 reasons purpose and Fico"
   ],
   "metadata": {}
  },
  {
   "cell_type": "code",
   "execution_count": 15,
   "source": [
    "counts_pur_fico['rank'] = counts_pur_fico['Counts'].rank(method='dense',ascending=False)\r\n",
    "counts_pur_fico = counts_pur_fico[counts_pur_fico['rank'] <=5]"
   ],
   "outputs": [],
   "metadata": {}
  },
  {
   "cell_type": "code",
   "execution_count": 16,
   "source": [
    "counts_pur_fico"
   ],
   "outputs": [
    {
     "output_type": "execute_result",
     "data": {
      "text/html": [
       "<div>\n",
       "<style scoped>\n",
       "    .dataframe tbody tr th:only-of-type {\n",
       "        vertical-align: middle;\n",
       "    }\n",
       "\n",
       "    .dataframe tbody tr th {\n",
       "        vertical-align: top;\n",
       "    }\n",
       "\n",
       "    .dataframe thead th {\n",
       "        text-align: right;\n",
       "    }\n",
       "</style>\n",
       "<table border=\"1\" class=\"dataframe\">\n",
       "  <thead>\n",
       "    <tr style=\"text-align: right;\">\n",
       "      <th></th>\n",
       "      <th>fico</th>\n",
       "      <th>purpose</th>\n",
       "      <th>Counts</th>\n",
       "      <th>rank</th>\n",
       "    </tr>\n",
       "  </thead>\n",
       "  <tbody>\n",
       "    <tr>\n",
       "      <th>72</th>\n",
       "      <td>682</td>\n",
       "      <td>debt_consolidation</td>\n",
       "      <td>252</td>\n",
       "      <td>1.0</td>\n",
       "    </tr>\n",
       "    <tr>\n",
       "      <th>79</th>\n",
       "      <td>687</td>\n",
       "      <td>debt_consolidation</td>\n",
       "      <td>250</td>\n",
       "      <td>2.0</td>\n",
       "    </tr>\n",
       "    <tr>\n",
       "      <th>86</th>\n",
       "      <td>692</td>\n",
       "      <td>debt_consolidation</td>\n",
       "      <td>240</td>\n",
       "      <td>3.0</td>\n",
       "    </tr>\n",
       "    <tr>\n",
       "      <th>93</th>\n",
       "      <td>697</td>\n",
       "      <td>debt_consolidation</td>\n",
       "      <td>227</td>\n",
       "      <td>4.0</td>\n",
       "    </tr>\n",
       "    <tr>\n",
       "      <th>100</th>\n",
       "      <td>702</td>\n",
       "      <td>debt_consolidation</td>\n",
       "      <td>212</td>\n",
       "      <td>5.0</td>\n",
       "    </tr>\n",
       "  </tbody>\n",
       "</table>\n",
       "</div>"
      ],
      "text/plain": [
       "     fico             purpose  Counts  rank\n",
       "72    682  debt_consolidation     252   1.0\n",
       "79    687  debt_consolidation     250   2.0\n",
       "86    692  debt_consolidation     240   3.0\n",
       "93    697  debt_consolidation     227   4.0\n",
       "100   702  debt_consolidation     212   5.0"
      ]
     },
     "metadata": {},
     "execution_count": 16
    }
   ],
   "metadata": {}
  },
  {
   "cell_type": "markdown",
   "source": [
    "The main reason of borrowing money is debt consolidation and it is majorly in the customers having Fico score less than 710"
   ],
   "metadata": {}
  },
  {
   "cell_type": "markdown",
   "source": [
    "### Number of customer that have paid vs not Paid"
   ],
   "metadata": {}
  },
  {
   "cell_type": "code",
   "execution_count": 17,
   "source": [
    "not_paid = loan_df['not_fully_paid'].value_counts().reset_index()\r\n",
    "print(not_paid)"
   ],
   "outputs": [
    {
     "output_type": "stream",
     "name": "stdout",
     "text": [
      "   index  not_fully_paid\n",
      "0      0            8045\n",
      "1      1            1533\n"
     ]
    }
   ],
   "metadata": {}
  },
  {
   "cell_type": "code",
   "execution_count": 18,
   "source": [
    "sns.countplot(x='not_fully_paid',data=loan_df)\r\n",
    "plt.ylabel('Counts')\r\n",
    "plt.xlabel('Paid/Not-Paid')\r\n",
    "plt.title('Comparing Paid/Not-Paid Customers')\r\n",
    "plt.show()"
   ],
   "outputs": [
    {
     "output_type": "display_data",
     "data": {
      "image/png": "[encoded data removed]",
      "text/plain": [
       "<Figure size 432x288 with 1 Axes>"
      ]
     },
     "metadata": {
      "needs_background": "light"
     }
    }
   ],
   "metadata": {}
  },
  {
   "cell_type": "markdown",
   "source": [
    "### Correlation matrix with paying back the loan"
   ],
   "metadata": {}
  },
  {
   "cell_type": "code",
   "execution_count": 19,
   "source": [
    "cor_mat= loan_df.corr()\r\n",
    "fig=plt.gcf()\r\n",
    "fig.set_size_inches(12,12)\r\n",
    "sns.heatmap(data=cor_mat, square=True, annot=True, cbar=True,cmap=sns.diverging_palette(220, 20, as_cmap=True))\r\n",
    "plt.show()"
   ],
   "outputs": [
    {
     "output_type": "display_data",
     "data": {
      "image/png": "[encoded data removed]",
      "text/plain": [
       "<Figure size 864x864 with 2 Axes>"
      ]
     },
     "metadata": {
      "needs_background": "light"
     }
    }
   ],
   "metadata": {}
  },
  {
   "cell_type": "markdown",
   "source": [
    "## Working with Features & Model "
   ],
   "metadata": {}
  },
  {
   "cell_type": "code",
   "execution_count": 20,
   "source": [
    "from sklearn.model_selection import train_test_split\r\n",
    "from sklearn.preprocessing import OneHotEncoder,StandardScaler,MinMaxScaler"
   ],
   "outputs": [],
   "metadata": {}
  },
  {
   "cell_type": "markdown",
   "source": [
    "Convert the categorical variables using OneHotEncoder. Since models work better and fast with numerical data"
   ],
   "metadata": {}
  },
  {
   "cell_type": "code",
   "execution_count": 21,
   "source": [
    "loan_df.shape"
   ],
   "outputs": [
    {
     "output_type": "execute_result",
     "data": {
      "text/plain": [
       "(9578, 14)"
      ]
     },
     "metadata": {},
     "execution_count": 21
    }
   ],
   "metadata": {}
  },
  {
   "cell_type": "code",
   "execution_count": 22,
   "source": [
    "X = loan_df.iloc[:,:-1]\r\n",
    "y = loan_df.iloc[:,-1]\r\n",
    "print(\"Shape of X - {}\".format(X.shape))\r\n",
    "print(\"Shape of Y - {}\".format(y.shape))"
   ],
   "outputs": [
    {
     "output_type": "stream",
     "name": "stdout",
     "text": [
      "Shape of X - (9578, 13)\n",
      "Shape of Y - (9578,)\n"
     ]
    }
   ],
   "metadata": {}
  },
  {
   "cell_type": "code",
   "execution_count": 23,
   "source": [
    "X_train, X_test,y_train,y_test = train_test_split(X,y,random_state=42,test_size=0.2)"
   ],
   "outputs": [],
   "metadata": {}
  },
  {
   "cell_type": "code",
   "execution_count": 24,
   "source": [
    "categorical_var = ['purpose']\r\n",
    "\r\n",
    "OH_encoder = OneHotEncoder(handle_unknown='ignore', sparse=False)\r\n",
    "OH_cols_train = pd.DataFrame(OH_encoder.fit_transform(X_train[categorical_var]))\r\n",
    "OH_cols_test = pd.DataFrame(OH_encoder.transform(X_test[categorical_var]))\r\n",
    "\r\n",
    "# One-hot encoding removed index; put it back\r\n",
    "OH_cols_train.index = X_train.index\r\n",
    "OH_cols_test.index = X_test.index\r\n",
    "\r\n",
    "# Remove categorical columns (will replace with one-hot encoding)\r\n",
    "num_X_train = X_train.drop(categorical_var, axis=1)\r\n",
    "num_X_test = X_test.drop(categorical_var, axis=1)\r\n",
    "\r\n",
    "# Add one-hot encoded columns to numerical features\r\n",
    "OH_X_train = pd.concat([num_X_train, OH_cols_train], axis=1)\r\n",
    "OH_X_test = pd.concat([num_X_test, OH_cols_test], axis=1)"
   ],
   "outputs": [],
   "metadata": {}
  },
  {
   "cell_type": "code",
   "execution_count": 25,
   "source": [
    "OH_X_train.head()"
   ],
   "outputs": [
    {
     "output_type": "execute_result",
     "data": {
      "text/html": [
       "<div>\n",
       "<style scoped>\n",
       "    .dataframe tbody tr th:only-of-type {\n",
       "        vertical-align: middle;\n",
       "    }\n",
       "\n",
       "    .dataframe tbody tr th {\n",
       "        vertical-align: top;\n",
       "    }\n",
       "\n",
       "    .dataframe thead th {\n",
       "        text-align: right;\n",
       "    }\n",
       "</style>\n",
       "<table border=\"1\" class=\"dataframe\">\n",
       "  <thead>\n",
       "    <tr style=\"text-align: right;\">\n",
       "      <th></th>\n",
       "      <th>credit_policy</th>\n",
       "      <th>int_rate</th>\n",
       "      <th>installment</th>\n",
       "      <th>log_annual_inc</th>\n",
       "      <th>dti</th>\n",
       "      <th>fico</th>\n",
       "      <th>days_with_cr_line</th>\n",
       "      <th>revol_bal</th>\n",
       "      <th>revol_util</th>\n",
       "      <th>inq_last_6mths</th>\n",
       "      <th>delinq_2yrs</th>\n",
       "      <th>pub_rec</th>\n",
       "      <th>0</th>\n",
       "      <th>1</th>\n",
       "      <th>2</th>\n",
       "      <th>3</th>\n",
       "      <th>4</th>\n",
       "      <th>5</th>\n",
       "      <th>6</th>\n",
       "    </tr>\n",
       "  </thead>\n",
       "  <tbody>\n",
       "    <tr>\n",
       "      <th>7317</th>\n",
       "      <td>1</td>\n",
       "      <td>0.1459</td>\n",
       "      <td>327.42</td>\n",
       "      <td>9.994242</td>\n",
       "      <td>11.41</td>\n",
       "      <td>692</td>\n",
       "      <td>5239.041667</td>\n",
       "      <td>144</td>\n",
       "      <td>28.8</td>\n",
       "      <td>1</td>\n",
       "      <td>0</td>\n",
       "      <td>0</td>\n",
       "      <td>0.0</td>\n",
       "      <td>0.0</td>\n",
       "      <td>0.0</td>\n",
       "      <td>0.0</td>\n",
       "      <td>0.0</td>\n",
       "      <td>1.0</td>\n",
       "      <td>0.0</td>\n",
       "    </tr>\n",
       "    <tr>\n",
       "      <th>350</th>\n",
       "      <td>1</td>\n",
       "      <td>0.0838</td>\n",
       "      <td>236.34</td>\n",
       "      <td>11.225243</td>\n",
       "      <td>6.06</td>\n",
       "      <td>742</td>\n",
       "      <td>3149.041667</td>\n",
       "      <td>4286</td>\n",
       "      <td>40.4</td>\n",
       "      <td>0</td>\n",
       "      <td>0</td>\n",
       "      <td>0</td>\n",
       "      <td>0.0</td>\n",
       "      <td>1.0</td>\n",
       "      <td>0.0</td>\n",
       "      <td>0.0</td>\n",
       "      <td>0.0</td>\n",
       "      <td>0.0</td>\n",
       "      <td>0.0</td>\n",
       "    </tr>\n",
       "    <tr>\n",
       "      <th>5206</th>\n",
       "      <td>1</td>\n",
       "      <td>0.1148</td>\n",
       "      <td>138.47</td>\n",
       "      <td>11.170435</td>\n",
       "      <td>6.83</td>\n",
       "      <td>717</td>\n",
       "      <td>3810.000000</td>\n",
       "      <td>11974</td>\n",
       "      <td>72.1</td>\n",
       "      <td>1</td>\n",
       "      <td>0</td>\n",
       "      <td>0</td>\n",
       "      <td>0.0</td>\n",
       "      <td>0.0</td>\n",
       "      <td>1.0</td>\n",
       "      <td>0.0</td>\n",
       "      <td>0.0</td>\n",
       "      <td>0.0</td>\n",
       "      <td>0.0</td>\n",
       "    </tr>\n",
       "    <tr>\n",
       "      <th>2673</th>\n",
       "      <td>1</td>\n",
       "      <td>0.0932</td>\n",
       "      <td>527.13</td>\n",
       "      <td>11.058858</td>\n",
       "      <td>8.35</td>\n",
       "      <td>732</td>\n",
       "      <td>4079.958333</td>\n",
       "      <td>41921</td>\n",
       "      <td>85.2</td>\n",
       "      <td>0</td>\n",
       "      <td>0</td>\n",
       "      <td>0</td>\n",
       "      <td>1.0</td>\n",
       "      <td>0.0</td>\n",
       "      <td>0.0</td>\n",
       "      <td>0.0</td>\n",
       "      <td>0.0</td>\n",
       "      <td>0.0</td>\n",
       "      <td>0.0</td>\n",
       "    </tr>\n",
       "    <tr>\n",
       "      <th>3528</th>\n",
       "      <td>1</td>\n",
       "      <td>0.1126</td>\n",
       "      <td>312.21</td>\n",
       "      <td>10.693398</td>\n",
       "      <td>19.04</td>\n",
       "      <td>757</td>\n",
       "      <td>7049.958333</td>\n",
       "      <td>336</td>\n",
       "      <td>4.7</td>\n",
       "      <td>1</td>\n",
       "      <td>0</td>\n",
       "      <td>0</td>\n",
       "      <td>0.0</td>\n",
       "      <td>0.0</td>\n",
       "      <td>0.0</td>\n",
       "      <td>0.0</td>\n",
       "      <td>0.0</td>\n",
       "      <td>1.0</td>\n",
       "      <td>0.0</td>\n",
       "    </tr>\n",
       "  </tbody>\n",
       "</table>\n",
       "</div>"
      ],
      "text/plain": [
       "      credit_policy  int_rate  installment  log_annual_inc    dti  fico  \\\n",
       "7317              1    0.1459       327.42        9.994242  11.41   692   \n",
       "350               1    0.0838       236.34       11.225243   6.06   742   \n",
       "5206              1    0.1148       138.47       11.170435   6.83   717   \n",
       "2673              1    0.0932       527.13       11.058858   8.35   732   \n",
       "3528              1    0.1126       312.21       10.693398  19.04   757   \n",
       "\n",
       "      days_with_cr_line  revol_bal  revol_util  inq_last_6mths  delinq_2yrs  \\\n",
       "7317        5239.041667        144        28.8               1            0   \n",
       "350         3149.041667       4286        40.4               0            0   \n",
       "5206        3810.000000      11974        72.1               1            0   \n",
       "2673        4079.958333      41921        85.2               0            0   \n",
       "3528        7049.958333        336         4.7               1            0   \n",
       "\n",
       "      pub_rec    0    1    2    3    4    5    6  \n",
       "7317        0  0.0  0.0  0.0  0.0  0.0  1.0  0.0  \n",
       "350         0  0.0  1.0  0.0  0.0  0.0  0.0  0.0  \n",
       "5206        0  0.0  0.0  1.0  0.0  0.0  0.0  0.0  \n",
       "2673        0  1.0  0.0  0.0  0.0  0.0  0.0  0.0  \n",
       "3528        0  0.0  0.0  0.0  0.0  0.0  1.0  0.0  "
      ]
     },
     "metadata": {},
     "execution_count": 25
    }
   ],
   "metadata": {}
  },
  {
   "cell_type": "code",
   "execution_count": 26,
   "source": [
    "print(\"Shape of training Data - {}\".format(OH_X_train.shape))\r\n",
    "print(\"Shape of test Data - {}\".format(OH_X_test.shape))"
   ],
   "outputs": [
    {
     "output_type": "stream",
     "name": "stdout",
     "text": [
      "Shape of training Data - (7662, 19)\n",
      "Shape of test Data - (1916, 19)\n"
     ]
    }
   ],
   "metadata": {}
  },
  {
   "cell_type": "code",
   "execution_count": 27,
   "source": [
    "minmax = MinMaxScaler()\r\n",
    "scaled_X_train = minmax.fit_transform(OH_X_train)\r\n",
    "scaled_X_test = minmax.transform(OH_X_test)"
   ],
   "outputs": [],
   "metadata": {}
  },
  {
   "cell_type": "code",
   "execution_count": 28,
   "source": [
    "print(\"Shape of final X_train - {}\".format(scaled_X_train.shape))"
   ],
   "outputs": [
    {
     "output_type": "stream",
     "name": "stdout",
     "text": [
      "Shape of final X_train - (7662, 19)\n"
     ]
    }
   ],
   "metadata": {}
  },
  {
   "cell_type": "markdown",
   "source": [
    "Building a baseline model in order to iterate and improve over time. From the above analysis we have noticed that 1533 customers have yet not paid fully."
   ],
   "metadata": {}
  },
  {
   "cell_type": "code",
   "execution_count": 29,
   "source": [
    "from sklearn.linear_model import LogisticRegression\r\n",
    "\r\n",
    "logreg = LogisticRegression(verbose=True,n_jobs=-1)\r\n",
    "logreg.fit(scaled_X_train,y_train)"
   ],
   "outputs": [
    {
     "output_type": "stream",
     "name": "stderr",
     "text": [
      "[Parallel(n_jobs=-1)]: Using backend LokyBackend with 8 concurrent workers.\n",
      "[Parallel(n_jobs=-1)]: Done   1 out of   1 | elapsed:    2.8s finished\n"
     ]
    },
    {
     "output_type": "execute_result",
     "data": {
      "text/plain": [
       "LogisticRegression(n_jobs=-1, verbose=True)"
      ]
     },
     "metadata": {},
     "execution_count": 29
    }
   ],
   "metadata": {}
  },
  {
   "cell_type": "code",
   "execution_count": 30,
   "source": [
    "# Import confusion_matrix\r\n",
    "from sklearn.metrics import confusion_matrix\r\n",
    "from sklearn.metrics import accuracy_score\r\n",
    "\r\n",
    "# Use logreg to predict instances from the test set and store it\r\n",
    "y_pred = logreg.predict(scaled_X_test)\r\n",
    "\r\n",
    "# Get the accuracy score of logreg model and print it\r\n",
    "print(\"Accuracy of logistic regression classifier: \", logreg.score(scaled_X_test,y_test))\r\n",
    "\r\n",
    "# Print the confusion matrix of the logreg model\r\n",
    "print(confusion_matrix(y_test,y_pred))"
   ],
   "outputs": [
    {
     "output_type": "stream",
     "name": "stdout",
     "text": [
      "Accuracy of logistic regression classifier:  0.8413361169102297\n",
      "[[1602    9]\n",
      " [ 295   10]]\n"
     ]
    }
   ],
   "metadata": {
    "tags": []
   }
  },
  {
   "cell_type": "markdown",
   "source": [
    "Currently our model is giving a 84.13% accuracy. But surely we can do better using HyperParameter Tuning for the model. "
   ],
   "metadata": {}
  },
  {
   "cell_type": "markdown",
   "source": [
    "### HyperParameter Tuning "
   ],
   "metadata": {}
  },
  {
   "cell_type": "code",
   "execution_count": 32,
   "source": [
    "from sklearn.tree import DecisionTreeClassifier\r\n",
    "from sklearn.ensemble import RandomForestClassifier,GradientBoostingClassifier\r\n",
    "from sklearn.model_selection import cross_val_score\r\n",
    "from sklearn.model_selection import RepeatedStratifiedKFold\r\n",
    "from sklearn.feature_selection import RFE\r\n",
    "from sklearn.pipeline import Pipeline\r\n",
    "from sklearn.linear_model import Perceptron\r\n",
    "from sklearn.model_selection import GridSearchCV"
   ],
   "outputs": [],
   "metadata": {}
  },
  {
   "cell_type": "code",
   "execution_count": 38,
   "source": [
    "def get_models_rfe():\r\n",
    "    models = dict()\r\n",
    "    for i in range(2,19):\r\n",
    "        rfe = RFE(estimator=GradientBoostingClassifier(),n_features_to_select=i)\r\n",
    "        model = GradientBoostingClassifier()\r\n",
    "        models[str(i)] = Pipeline(steps=[('s',rfe),('m',model)])\r\n",
    "    return models"
   ],
   "outputs": [],
   "metadata": {}
  },
  {
   "cell_type": "code",
   "execution_count": 39,
   "source": [
    "# evaluate a give model using cross-validation\r\n",
    "def evaluate_model(model, X, y):\r\n",
    "    cv = RepeatedStratifiedKFold(n_splits=10, n_repeats=3, random_state=1)\r\n",
    "    scores = cross_val_score(model, X, y, scoring='accuracy', cv=cv, n_jobs=-1)    \r\n",
    "    return scores"
   ],
   "outputs": [],
   "metadata": {}
  },
  {
   "cell_type": "code",
   "execution_count": 38,
   "source": [
    "models_rfe = get_models_rfe()\r\n",
    "results, names = list(),list()\r\n",
    "for name, model in models_rfe.items():\r\n",
    "    scores = evaluate_model(model,scaled_X_train,y_train)\r\n",
    "    results.append(scores)\r\n",
    "    names.append(name)\r\n",
    "    print('>%s %.3f (%.3f)' % (name, np.mean(scores), np.std(scores)))"
   ],
   "outputs": [
    {
     "output_type": "stream",
     "name": "stdout",
     "text": [
      ">2 0.837 (0.003)\n",
      ">3 0.837 (0.003)\n",
      ">4 0.838 (0.003)\n",
      ">5 0.838 (0.002)\n",
      ">6 0.838 (0.002)\n",
      ">7 0.838 (0.002)\n",
      ">8 0.838 (0.002)\n",
      ">9 0.838 (0.002)\n",
      ">10 0.838 (0.002)\n",
      ">11 0.838 (0.002)\n",
      ">12 0.838 (0.002)\n",
      ">13 0.838 (0.002)\n",
      ">14 0.838 (0.002)\n",
      ">15 0.838 (0.002)\n",
      ">16 0.838 (0.002)\n",
      ">17 0.838 (0.002)\n",
      ">18 0.838 (0.002)\n"
     ]
    }
   ],
   "metadata": {}
  },
  {
   "cell_type": "code",
   "execution_count": 39,
   "source": [
    "# plot model performance for comparison\r\n",
    "plt.boxplot(results, labels=names, showmeans=True)\r\n",
    "plt.show()"
   ],
   "outputs": [
    {
     "output_type": "display_data",
     "data": {
      "image/png": "[encoded data removed]",
      "text/plain": [
       "<Figure size 432x288 with 1 Axes>"
      ]
     },
     "metadata": {
      "needs_background": "light"
     }
    }
   ],
   "metadata": {}
  },
  {
   "cell_type": "code",
   "execution_count": 40,
   "source": [
    "# define RFE\r\n",
    "rfe = RFE(estimator=DecisionTreeClassifier(), n_features_to_select=5)\r\n",
    "# fit RFE\r\n",
    "rfe.fit(scaled_X_train, y_train)\r\n",
    "# summarize all features\r\n",
    "for i in range(scaled_X_train.shape[1]):\r\n",
    "    print('Column: %d, Selected %s, Rank: %.3f' % (i, rfe.support_[i], rfe.ranking_[i]))"
   ],
   "outputs": [
    {
     "output_type": "stream",
     "name": "stdout",
     "text": [
      "Column: 0, Selected False, Rank: 6.000\n",
      "Column: 1, Selected True, Rank: 1.000\n",
      "Column: 2, Selected True, Rank: 1.000\n",
      "Column: 3, Selected True, Rank: 1.000\n",
      "Column: 4, Selected False, Rank: 2.000\n",
      "Column: 5, Selected False, Rank: 4.000\n",
      "Column: 6, Selected True, Rank: 1.000\n",
      "Column: 7, Selected True, Rank: 1.000\n",
      "Column: 8, Selected False, Rank: 3.000\n",
      "Column: 9, Selected False, Rank: 5.000\n",
      "Column: 10, Selected False, Rank: 9.000\n",
      "Column: 11, Selected False, Rank: 13.000\n",
      "Column: 12, Selected False, Rank: 7.000\n",
      "Column: 13, Selected False, Rank: 14.000\n",
      "Column: 14, Selected False, Rank: 8.000\n",
      "Column: 15, Selected False, Rank: 12.000\n",
      "Column: 16, Selected False, Rank: 10.000\n",
      "Column: 17, Selected False, Rank: 15.000\n",
      "Column: 18, Selected False, Rank: 11.000\n"
     ]
    }
   ],
   "metadata": {}
  },
  {
   "cell_type": "code",
   "execution_count": 41,
   "source": [
    "# get a list of models to evaluate\r\n",
    "def get_models():\r\n",
    "    models = dict()\r\n",
    "    # lr\r\n",
    "    rfe = RFE(estimator=LogisticRegression(), n_features_to_select=5)\r\n",
    "    model = LogisticRegression()\r\n",
    "    models['lr'] = Pipeline(steps=[('s',rfe),('m',model)])\r\n",
    "    # perceptron\r\n",
    "    rfe = RFE(estimator=Perceptron(), n_features_to_select=5)\r\n",
    "    model = Perceptron()\r\n",
    "    models['per'] = Pipeline(steps=[('s',rfe),('m',model)])\r\n",
    "    # cart\r\n",
    "    rfe = RFE(estimator=DecisionTreeClassifier(), n_features_to_select=5)\r\n",
    "    model = DecisionTreeClassifier()\r\n",
    "    models['cart'] = Pipeline(steps=[('s',rfe),('m',model)])\r\n",
    "    # rf\r\n",
    "    rfe = RFE(estimator=RandomForestClassifier(), n_features_to_select=5)\r\n",
    "    model = RandomForestClassifier()\r\n",
    "    models['rf'] = Pipeline(steps=[('s',rfe),('m',model)])\r\n",
    "    # gbm\r\n",
    "    rfe = RFE(estimator=GradientBoostingClassifier())\r\n",
    "    model = GradientBoostingClassifier()\r\n",
    "    models['gbm'] = Pipeline(steps=[('s',rfe),('m',model)])\r\n",
    "    return models\r\n"
   ],
   "outputs": [],
   "metadata": {}
  },
  {
   "cell_type": "code",
   "execution_count": 42,
   "source": [
    "# get the models to evaluate\r\n",
    "models = get_models()\r\n",
    "# evaluate the models and store results\r\n",
    "results, names = list(), list()\r\n",
    "for name, model in models.items():\r\n",
    "    scores = evaluate_model(model, scaled_X_train, y_train)\r\n",
    "    results.append(scores)\r\n",
    "    names.append(name)\r\n",
    "    print('>%s %.3f (%.3f)' % (name, np.mean(scores), np.std(scores)))"
   ],
   "outputs": [
    {
     "output_type": "stream",
     "name": "stdout",
     "text": [
      ">lr 0.840 (0.001)\n",
      ">per 0.785 (0.128)\n",
      ">cart 0.723 (0.016)\n",
      ">rf 0.836 (0.004)\n",
      ">gbm 0.837 (0.003)\n"
     ]
    }
   ],
   "metadata": {}
  },
  {
   "cell_type": "markdown",
   "source": [
    "### Finding the best performing model\n",
    "<p>We have defined the grid of hyperparameter values and converted them into a single dictionary format which <code>GridSearchCV()</code> expects as one of its parameters. Now, we will begin the grid search to see which values perform best.</p>\n",
    "<p>We will instantiate <code>GridSearchCV()</code> with our earlier <code>logreg</code> model with all the data we have. Instead of passing train and test sets separately, we will supply <code>X</code> (scaled version) and <code>y</code>. We will also instruct <code>GridSearchCV()</code> to perform a <a href=\"https://www.dataschool.io/machine-learning-with-scikit-learn/\">cross-validation</a> of five folds.</p>\n",
    "<p>We'll end the notebook by storing the best-achieved score and the respective best parameters.</p>"
   ],
   "metadata": {}
  },
  {
   "cell_type": "code",
   "execution_count": 41,
   "source": [
    "tol = [0.01, 0.001,0.0001]\r\n",
    "max_iter = [100,150,200]\r\n",
    "solvers = ['newton-cg', 'lbfgs']\r\n",
    "penalty = ['l2']\r\n",
    "c_values = [100, 10, 1.0, 0.1, 0.01]\r\n",
    "\r\n",
    "# Create a dictionary where tol and max_iter are keys and the lists of their values are corresponding values\r\n",
    "param_grid = dict(tol=tol,max_iter=max_iter,solver=solvers,penalty=penalty,C=c_values)\r\n",
    "\r\n",
    "# Instantiate GridSearchCV with the required parameters\r\n",
    "grid_model = GridSearchCV(estimator=logreg, param_grid=param_grid, cv=5,verbose=False,n_jobs=-1)\r\n",
    "\r\n",
    "scaled_X_train.shape"
   ],
   "outputs": [
    {
     "output_type": "execute_result",
     "data": {
      "text/plain": [
       "(7662, 19)"
      ]
     },
     "metadata": {},
     "execution_count": 41
    }
   ],
   "metadata": {}
  },
  {
   "cell_type": "code",
   "execution_count": 42,
   "source": [
    "scaled_X_train = scaled_X_train[:,[1,2,3,6,7]]\r\n",
    "scaled_X_test = scaled_X_test[:,[1,2,3,6,7]]\r\n",
    "\r\n",
    "scaled_X_train.shape"
   ],
   "outputs": [
    {
     "output_type": "execute_result",
     "data": {
      "text/plain": [
       "(7662, 5)"
      ]
     },
     "metadata": {},
     "execution_count": 42
    }
   ],
   "metadata": {}
  },
  {
   "cell_type": "code",
   "execution_count": 43,
   "source": [
    "# Fit grid_model to the data\r\n",
    "grid_model_result = grid_model.fit(scaled_X_train, y_train)\r\n",
    "\r\n",
    "# Summarize results\r\n",
    "best_score, best_params = grid_model_result.best_score_, grid_model_result.best_params_\r\n",
    "print(\"Best: %f using %s\" % (best_score, best_params))"
   ],
   "outputs": [
    {
     "output_type": "stream",
     "name": "stdout",
     "text": [
      "Best: 0.839729 using {'C': 0.1, 'max_iter': 100, 'penalty': 'l2', 'solver': 'newton-cg', 'tol': 0.01}\n"
     ]
    },
    {
     "output_type": "stream",
     "name": "stderr",
     "text": [
      "[Parallel(n_jobs=-1)]: Using backend LokyBackend with 8 concurrent workers.\n",
      "[Parallel(n_jobs=-1)]: Done   1 out of   1 | elapsed:    0.0s finished\n"
     ]
    }
   ],
   "metadata": {}
  },
  {
   "cell_type": "markdown",
   "source": [
    "### Final Prediction using the tuned parameters\r\n",
    "\r\n",
    "The best parameters we found for log reg. "
   ],
   "metadata": {}
  },
  {
   "cell_type": "code",
   "execution_count": 44,
   "source": [
    "logreg = LogisticRegression(C=0.1,max_iter=100,penalty='l2',solver='newton-cg',tol=0.01,random_state=42)\r\n",
    "logreg.fit(scaled_X_train,y_train)"
   ],
   "outputs": [
    {
     "output_type": "execute_result",
     "data": {
      "text/plain": [
       "LogisticRegression(C=0.1, random_state=42, solver='newton-cg', tol=0.01)"
      ]
     },
     "metadata": {},
     "execution_count": 44
    }
   ],
   "metadata": {}
  },
  {
   "cell_type": "code",
   "execution_count": 45,
   "source": [
    "# Use logreg to predict instances from the test set and store it\r\n",
    "y_pred = logreg.predict(scaled_X_test)\r\n",
    "\r\n",
    "# Get the accuracy score of logreg model and print it\r\n",
    "print(\"Accuracy of logistic regression classifier: \", logreg.score(scaled_X_test,y_test))\r\n",
    "\r\n",
    "# Print the confusion matrix of the logreg model\r\n",
    "print(confusion_matrix(y_test,y_pred))"
   ],
   "outputs": [
    {
     "output_type": "stream",
     "name": "stdout",
     "text": [
      "Accuracy of logistic regression classifier:  0.8408141962421712\n",
      "[[1611    0]\n",
      " [ 305    0]]\n"
     ]
    }
   ],
   "metadata": {}
  },
  {
   "cell_type": "markdown",
   "source": [
    "## Summary\r\n",
    "- Build a model that can predict the probability a user will be able to pay back their loan within a certain period. 84%\r\n",
    "- We see that majority of the people take loans for debt consolidation and the fico scores of them is less than 710\r\n",
    "- Using RFE we can say that only 5 columns are required to give the optimum output.\r\n"
   ],
   "metadata": {}
  }
 ],
 "metadata": {
  "interpreter": {
   "hash": "b3ba2566441a7c06988d0923437866b63cedc61552a5af99d1f4fb67d367b25f"
  },
  "kernelspec": {
   "name": "python3",
   "display_name": "Python 3.8.8 64-bit ('base': conda)"
  },
  "language_info": {
   "codemirror_mode": {
    "name": "ipython",
    "version": 3
   },
   "file_extension": ".py",
   "mimetype": "text/x-python",
   "name": "python",
   "nbconvert_exporter": "python",
   "pygments_lexer": "ipython3",
   "version": "3.8.8"
  },
  "toc-autonumbering": false,
  "toc-showcode": false,
  "toc-showmarkdowntxt": false
 },
 "nbformat": 4,
 "nbformat_minor": 5
}